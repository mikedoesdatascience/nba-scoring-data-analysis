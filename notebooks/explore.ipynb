{
 "cells": [
  {
   "cell_type": "code",
   "execution_count": 63,
   "metadata": {},
   "outputs": [
    {
     "data": {
      "text/html": [
       "<script type=\"esms-options\">{\"shimMode\": true}</script><style>*[data-root-id],\n",
       "*[data-root-id] > * {\n",
       "  box-sizing: border-box;\n",
       "  font-family: var(--jp-ui-font-family);\n",
       "  font-size: var(--jp-ui-font-size1);\n",
       "  color: var(--vscode-editor-foreground, var(--jp-ui-font-color1));\n",
       "}\n",
       "\n",
       "/* Override VSCode background color */\n",
       ".cell-output-ipywidget-background:has(\n",
       "    > .cell-output-ipywidget-background > .lm-Widget > *[data-root-id]\n",
       "  ),\n",
       ".cell-output-ipywidget-background:has(> .lm-Widget > *[data-root-id]) {\n",
       "  background-color: transparent !important;\n",
       "}\n",
       "</style>"
      ]
     },
     "metadata": {},
     "output_type": "display_data"
    },
    {
     "data": {
      "application/javascript": "(function(root) {\n  function now() {\n    return new Date();\n  }\n\n  const force = true;\n  const py_version = '3.6.3'.replace('rc', '-rc.').replace('.dev', '-dev.');\n  const reloading = false;\n  const Bokeh = root.Bokeh;\n\n  // Set a timeout for this load but only if we are not already initializing\n  if (typeof (root._bokeh_timeout) === \"undefined\" || (force || !root._bokeh_is_initializing)) {\n    root._bokeh_timeout = Date.now() + 5000;\n    root._bokeh_failed_load = false;\n  }\n\n  function run_callbacks() {\n    try {\n      root._bokeh_onload_callbacks.forEach(function(callback) {\n        if (callback != null)\n          callback();\n      });\n    } finally {\n      delete root._bokeh_onload_callbacks;\n    }\n    console.debug(\"Bokeh: all callbacks have finished\");\n  }\n\n  function load_libs(css_urls, js_urls, js_modules, js_exports, callback) {\n    if (css_urls == null) css_urls = [];\n    if (js_urls == null) js_urls = [];\n    if (js_modules == null) js_modules = [];\n    if (js_exports == null) js_exports = {};\n\n    root._bokeh_onload_callbacks.push(callback);\n\n    if (root._bokeh_is_loading > 0) {\n      // Don't load bokeh if it is still initializing\n      console.debug(\"Bokeh: BokehJS is being loaded, scheduling callback at\", now());\n      return null;\n    } else if (js_urls.length === 0 && js_modules.length === 0 && Object.keys(js_exports).length === 0) {\n      // There is nothing to load\n      run_callbacks();\n      return null;\n    }\n\n    function on_load() {\n      root._bokeh_is_loading--;\n      if (root._bokeh_is_loading === 0) {\n        console.debug(\"Bokeh: all BokehJS libraries/stylesheets loaded\");\n        run_callbacks()\n      }\n    }\n    window._bokeh_on_load = on_load\n\n    function on_error(e) {\n      const src_el = e.srcElement\n      console.error(\"failed to load \" + (src_el.href || src_el.src));\n    }\n\n    const skip = [];\n    if (window.requirejs) {\n      window.requirejs.config({'packages': {}, 'paths': {}, 'shim': {}});\n      root._bokeh_is_loading = css_urls.length + 0;\n    } else {\n      root._bokeh_is_loading = css_urls.length + js_urls.length + js_modules.length + Object.keys(js_exports).length;\n    }\n\n    const existing_stylesheets = []\n    const links = document.getElementsByTagName('link')\n    for (let i = 0; i < links.length; i++) {\n      const link = links[i]\n      if (link.href != null) {\n        existing_stylesheets.push(link.href)\n      }\n    }\n    for (let i = 0; i < css_urls.length; i++) {\n      const url = css_urls[i];\n      const escaped = encodeURI(url)\n      if (existing_stylesheets.indexOf(escaped) !== -1) {\n        on_load()\n        continue;\n      }\n      const element = document.createElement(\"link\");\n      element.onload = on_load;\n      element.onerror = on_error;\n      element.rel = \"stylesheet\";\n      element.type = \"text/css\";\n      element.href = url;\n      console.debug(\"Bokeh: injecting link tag for BokehJS stylesheet: \", url);\n      document.body.appendChild(element);\n    }    var existing_scripts = []\n    const scripts = document.getElementsByTagName('script')\n    for (let i = 0; i < scripts.length; i++) {\n      var script = scripts[i]\n      if (script.src != null) {\n        existing_scripts.push(script.src)\n      }\n    }\n    for (let i = 0; i < js_urls.length; i++) {\n      const url = js_urls[i];\n      const escaped = encodeURI(url)\n      if (skip.indexOf(escaped) !== -1 || existing_scripts.indexOf(escaped) !== -1) {\n        if (!window.requirejs) {\n          on_load();\n        }\n        continue;\n      }\n      const element = document.createElement('script');\n      element.onload = on_load;\n      element.onerror = on_error;\n      element.async = false;\n      element.src = url;\n      console.debug(\"Bokeh: injecting script tag for BokehJS library: \", url);\n      document.head.appendChild(element);\n    }\n    for (let i = 0; i < js_modules.length; i++) {\n      const url = js_modules[i];\n      const escaped = encodeURI(url)\n      if (skip.indexOf(escaped) !== -1 || existing_scripts.indexOf(escaped) !== -1) {\n        if (!window.requirejs) {\n          on_load();\n        }\n        continue;\n      }\n      var element = document.createElement('script');\n      element.onload = on_load;\n      element.onerror = on_error;\n      element.async = false;\n      element.src = url;\n      element.type = \"module\";\n      console.debug(\"Bokeh: injecting script tag for BokehJS library: \", url);\n      document.head.appendChild(element);\n    }\n    for (const name in js_exports) {\n      const url = js_exports[name];\n      const escaped = encodeURI(url)\n      if (skip.indexOf(escaped) >= 0 || root[name] != null) {\n        if (!window.requirejs) {\n          on_load();\n        }\n        continue;\n      }\n      var element = document.createElement('script');\n      element.onerror = on_error;\n      element.async = false;\n      element.type = \"module\";\n      console.debug(\"Bokeh: injecting script tag for BokehJS library: \", url);\n      element.textContent = `\n      import ${name} from \"${url}\"\n      window.${name} = ${name}\n      window._bokeh_on_load()\n      `\n      document.head.appendChild(element);\n    }\n    if (!js_urls.length && !js_modules.length) {\n      on_load()\n    }\n  };\n\n  function inject_raw_css(css) {\n    const element = document.createElement(\"style\");\n    element.appendChild(document.createTextNode(css));\n    document.body.appendChild(element);\n  }\n\n  const js_urls = [\"https://cdn.holoviz.org/panel/1.6.1/dist/bundled/reactiveesm/es-module-shims@^1.10.0/dist/es-module-shims.min.js\", \"https://cdn.bokeh.org/bokeh/release/bokeh-3.6.3.min.js\", \"https://cdn.bokeh.org/bokeh/release/bokeh-gl-3.6.3.min.js\", \"https://cdn.bokeh.org/bokeh/release/bokeh-widgets-3.6.3.min.js\", \"https://cdn.bokeh.org/bokeh/release/bokeh-tables-3.6.3.min.js\", \"https://cdn.holoviz.org/panel/1.6.1/dist/panel.min.js\"];\n  const js_modules = [];\n  const js_exports = {};\n  const css_urls = [];\n  const inline_js = [    function(Bokeh) {\n      Bokeh.set_log_level(\"info\");\n    },\nfunction(Bokeh) {} // ensure no trailing comma for IE\n  ];\n\n  function run_inline_js() {\n    if ((root.Bokeh !== undefined) || (force === true)) {\n      for (let i = 0; i < inline_js.length; i++) {\n        try {\n          inline_js[i].call(root, root.Bokeh);\n        } catch(e) {\n          if (!reloading) {\n            throw e;\n          }\n        }\n      }\n      // Cache old bokeh versions\n      if (Bokeh != undefined && !reloading) {\n        var NewBokeh = root.Bokeh;\n        if (Bokeh.versions === undefined) {\n          Bokeh.versions = new Map();\n        }\n        if (NewBokeh.version !== Bokeh.version) {\n          Bokeh.versions.set(NewBokeh.version, NewBokeh)\n        }\n        root.Bokeh = Bokeh;\n      }\n    } else if (Date.now() < root._bokeh_timeout) {\n      setTimeout(run_inline_js, 100);\n    } else if (!root._bokeh_failed_load) {\n      console.log(\"Bokeh: BokehJS failed to load within specified timeout.\");\n      root._bokeh_failed_load = true;\n    }\n    root._bokeh_is_initializing = false\n  }\n\n  function load_or_wait() {\n    // Implement a backoff loop that tries to ensure we do not load multiple\n    // versions of Bokeh and its dependencies at the same time.\n    // In recent versions we use the root._bokeh_is_initializing flag\n    // to determine whether there is an ongoing attempt to initialize\n    // bokeh, however for backward compatibility we also try to ensure\n    // that we do not start loading a newer (Panel>=1.0 and Bokeh>3) version\n    // before older versions are fully initialized.\n    if (root._bokeh_is_initializing && Date.now() > root._bokeh_timeout) {\n      // If the timeout and bokeh was not successfully loaded we reset\n      // everything and try loading again\n      root._bokeh_timeout = Date.now() + 5000;\n      root._bokeh_is_initializing = false;\n      root._bokeh_onload_callbacks = undefined;\n      root._bokeh_is_loading = 0\n      console.log(\"Bokeh: BokehJS was loaded multiple times but one version failed to initialize.\");\n      load_or_wait();\n    } else if (root._bokeh_is_initializing || (typeof root._bokeh_is_initializing === \"undefined\" && root._bokeh_onload_callbacks !== undefined)) {\n      setTimeout(load_or_wait, 100);\n    } else {\n      root._bokeh_is_initializing = true\n      root._bokeh_onload_callbacks = []\n      const bokeh_loaded = root.Bokeh != null && (root.Bokeh.version === py_version || (root.Bokeh.versions !== undefined && root.Bokeh.versions.has(py_version)));\n      if (!reloading && !bokeh_loaded) {\n        if (root.Bokeh) {\n          root.Bokeh = undefined;\n        }\n        console.debug(\"Bokeh: BokehJS not loaded, scheduling load and callback at\", now());\n      }\n      load_libs(css_urls, js_urls, js_modules, js_exports, function() {\n        console.debug(\"Bokeh: BokehJS plotting callback run at\", now());\n        run_inline_js();\n      });\n    }\n  }\n  // Give older versions of the autoload script a head-start to ensure\n  // they initialize before we start loading newer version.\n  setTimeout(load_or_wait, 100)\n}(window));",
      "application/vnd.holoviews_load.v0+json": ""
     },
     "metadata": {},
     "output_type": "display_data"
    },
    {
     "data": {
      "application/javascript": "\nif ((window.PyViz === undefined) || (window.PyViz instanceof HTMLElement)) {\n  window.PyViz = {comms: {}, comm_status:{}, kernels:{}, receivers: {}, plot_index: []}\n}\n\n\n    function JupyterCommManager() {\n    }\n\n    JupyterCommManager.prototype.register_target = function(plot_id, comm_id, msg_handler) {\n      if (window.comm_manager || ((window.Jupyter !== undefined) && (Jupyter.notebook.kernel != null))) {\n        var comm_manager = window.comm_manager || Jupyter.notebook.kernel.comm_manager;\n        comm_manager.register_target(comm_id, function(comm) {\n          comm.on_msg(msg_handler);\n        });\n      } else if ((plot_id in window.PyViz.kernels) && (window.PyViz.kernels[plot_id])) {\n        window.PyViz.kernels[plot_id].registerCommTarget(comm_id, function(comm) {\n          comm.onMsg = msg_handler;\n        });\n      } else if (typeof google != 'undefined' && google.colab.kernel != null) {\n        google.colab.kernel.comms.registerTarget(comm_id, (comm) => {\n          var messages = comm.messages[Symbol.asyncIterator]();\n          function processIteratorResult(result) {\n            var message = result.value;\n            console.log(message)\n            var content = {data: message.data, comm_id};\n            var buffers = []\n            for (var buffer of message.buffers || []) {\n              buffers.push(new DataView(buffer))\n            }\n            var metadata = message.metadata || {};\n            var msg = {content, buffers, metadata}\n            msg_handler(msg);\n            return messages.next().then(processIteratorResult);\n          }\n          return messages.next().then(processIteratorResult);\n        })\n      }\n    }\n\n    JupyterCommManager.prototype.get_client_comm = function(plot_id, comm_id, msg_handler) {\n      if (comm_id in window.PyViz.comms) {\n        return window.PyViz.comms[comm_id];\n      } else if (window.comm_manager || ((window.Jupyter !== undefined) && (Jupyter.notebook.kernel != null))) {\n        var comm_manager = window.comm_manager || Jupyter.notebook.kernel.comm_manager;\n        var comm = comm_manager.new_comm(comm_id, {}, {}, {}, comm_id);\n        if (msg_handler) {\n          comm.on_msg(msg_handler);\n        }\n      } else if ((plot_id in window.PyViz.kernels) && (window.PyViz.kernels[plot_id])) {\n        var comm = window.PyViz.kernels[plot_id].connectToComm(comm_id);\n        comm.open();\n        if (msg_handler) {\n          comm.onMsg = msg_handler;\n        }\n      } else if (typeof google != 'undefined' && google.colab.kernel != null) {\n        var comm_promise = google.colab.kernel.comms.open(comm_id)\n        comm_promise.then((comm) => {\n          window.PyViz.comms[comm_id] = comm;\n          if (msg_handler) {\n            var messages = comm.messages[Symbol.asyncIterator]();\n            function processIteratorResult(result) {\n              var message = result.value;\n              var content = {data: message.data};\n              var metadata = message.metadata || {comm_id};\n              var msg = {content, metadata}\n              msg_handler(msg);\n              return messages.next().then(processIteratorResult);\n            }\n            return messages.next().then(processIteratorResult);\n          }\n        })\n        var sendClosure = (data, metadata, buffers, disposeOnDone) => {\n          return comm_promise.then((comm) => {\n            comm.send(data, metadata, buffers, disposeOnDone);\n          });\n        };\n        var comm = {\n          send: sendClosure\n        };\n      }\n      window.PyViz.comms[comm_id] = comm;\n      return comm;\n    }\n    window.PyViz.comm_manager = new JupyterCommManager();\n    \n\n\nvar JS_MIME_TYPE = 'application/javascript';\nvar HTML_MIME_TYPE = 'text/html';\nvar EXEC_MIME_TYPE = 'application/vnd.holoviews_exec.v0+json';\nvar CLASS_NAME = 'output';\n\n/**\n * Render data to the DOM node\n */\nfunction render(props, node) {\n  var div = document.createElement(\"div\");\n  var script = document.createElement(\"script\");\n  node.appendChild(div);\n  node.appendChild(script);\n}\n\n/**\n * Handle when a new output is added\n */\nfunction handle_add_output(event, handle) {\n  var output_area = handle.output_area;\n  var output = handle.output;\n  if ((output.data == undefined) || (!output.data.hasOwnProperty(EXEC_MIME_TYPE))) {\n    return\n  }\n  var id = output.metadata[EXEC_MIME_TYPE][\"id\"];\n  var toinsert = output_area.element.find(\".\" + CLASS_NAME.split(' ')[0]);\n  if (id !== undefined) {\n    var nchildren = toinsert.length;\n    var html_node = toinsert[nchildren-1].children[0];\n    html_node.innerHTML = output.data[HTML_MIME_TYPE];\n    var scripts = [];\n    var nodelist = html_node.querySelectorAll(\"script\");\n    for (var i in nodelist) {\n      if (nodelist.hasOwnProperty(i)) {\n        scripts.push(nodelist[i])\n      }\n    }\n\n    scripts.forEach( function (oldScript) {\n      var newScript = document.createElement(\"script\");\n      var attrs = [];\n      var nodemap = oldScript.attributes;\n      for (var j in nodemap) {\n        if (nodemap.hasOwnProperty(j)) {\n          attrs.push(nodemap[j])\n        }\n      }\n      attrs.forEach(function(attr) { newScript.setAttribute(attr.name, attr.value) });\n      newScript.appendChild(document.createTextNode(oldScript.innerHTML));\n      oldScript.parentNode.replaceChild(newScript, oldScript);\n    });\n    if (JS_MIME_TYPE in output.data) {\n      toinsert[nchildren-1].children[1].textContent = output.data[JS_MIME_TYPE];\n    }\n    output_area._hv_plot_id = id;\n    if ((window.Bokeh !== undefined) && (id in Bokeh.index)) {\n      window.PyViz.plot_index[id] = Bokeh.index[id];\n    } else {\n      window.PyViz.plot_index[id] = null;\n    }\n  } else if (output.metadata[EXEC_MIME_TYPE][\"server_id\"] !== undefined) {\n    var bk_div = document.createElement(\"div\");\n    bk_div.innerHTML = output.data[HTML_MIME_TYPE];\n    var script_attrs = bk_div.children[0].attributes;\n    for (var i = 0; i < script_attrs.length; i++) {\n      toinsert[toinsert.length - 1].childNodes[1].setAttribute(script_attrs[i].name, script_attrs[i].value);\n    }\n    // store reference to server id on output_area\n    output_area._bokeh_server_id = output.metadata[EXEC_MIME_TYPE][\"server_id\"];\n  }\n}\n\n/**\n * Handle when an output is cleared or removed\n */\nfunction handle_clear_output(event, handle) {\n  var id = handle.cell.output_area._hv_plot_id;\n  var server_id = handle.cell.output_area._bokeh_server_id;\n  if (((id === undefined) || !(id in PyViz.plot_index)) && (server_id !== undefined)) { return; }\n  var comm = window.PyViz.comm_manager.get_client_comm(\"hv-extension-comm\", \"hv-extension-comm\", function () {});\n  if (server_id !== null) {\n    comm.send({event_type: 'server_delete', 'id': server_id});\n    return;\n  } else if (comm !== null) {\n    comm.send({event_type: 'delete', 'id': id});\n  }\n  delete PyViz.plot_index[id];\n  if ((window.Bokeh !== undefined) & (id in window.Bokeh.index)) {\n    var doc = window.Bokeh.index[id].model.document\n    doc.clear();\n    const i = window.Bokeh.documents.indexOf(doc);\n    if (i > -1) {\n      window.Bokeh.documents.splice(i, 1);\n    }\n  }\n}\n\n/**\n * Handle kernel restart event\n */\nfunction handle_kernel_cleanup(event, handle) {\n  delete PyViz.comms[\"hv-extension-comm\"];\n  window.PyViz.plot_index = {}\n}\n\n/**\n * Handle update_display_data messages\n */\nfunction handle_update_output(event, handle) {\n  handle_clear_output(event, {cell: {output_area: handle.output_area}})\n  handle_add_output(event, handle)\n}\n\nfunction register_renderer(events, OutputArea) {\n  function append_mime(data, metadata, element) {\n    // create a DOM node to render to\n    var toinsert = this.create_output_subarea(\n    metadata,\n    CLASS_NAME,\n    EXEC_MIME_TYPE\n    );\n    this.keyboard_manager.register_events(toinsert);\n    // Render to node\n    var props = {data: data, metadata: metadata[EXEC_MIME_TYPE]};\n    render(props, toinsert[0]);\n    element.append(toinsert);\n    return toinsert\n  }\n\n  events.on('output_added.OutputArea', handle_add_output);\n  events.on('output_updated.OutputArea', handle_update_output);\n  events.on('clear_output.CodeCell', handle_clear_output);\n  events.on('delete.Cell', handle_clear_output);\n  events.on('kernel_ready.Kernel', handle_kernel_cleanup);\n\n  OutputArea.prototype.register_mime_type(EXEC_MIME_TYPE, append_mime, {\n    safe: true,\n    index: 0\n  });\n}\n\nif (window.Jupyter !== undefined) {\n  try {\n    var events = require('base/js/events');\n    var OutputArea = require('notebook/js/outputarea').OutputArea;\n    if (OutputArea.prototype.mime_types().indexOf(EXEC_MIME_TYPE) == -1) {\n      register_renderer(events, OutputArea);\n    }\n  } catch(err) {\n  }\n}\n",
      "application/vnd.holoviews_load.v0+json": ""
     },
     "metadata": {},
     "output_type": "display_data"
    },
    {
     "data": {
      "application/vnd.holoviews_exec.v0+json": "",
      "text/html": [
       "<div id='27b9ba89-b801-413a-9d6b-6831b68ffedf'>\n",
       "  <div id=\"d68fc4cf-1a29-45a8-93fc-8591ad013673\" data-root-id=\"27b9ba89-b801-413a-9d6b-6831b68ffedf\" style=\"display: contents;\"></div>\n",
       "</div>\n",
       "<script type=\"application/javascript\">(function(root) {\n",
       "  var docs_json = {\"39aa779f-a70c-42e6-bfab-ff175b29333f\":{\"version\":\"3.6.3\",\"title\":\"Bokeh Application\",\"roots\":[{\"type\":\"object\",\"name\":\"panel.models.browser.BrowserInfo\",\"id\":\"27b9ba89-b801-413a-9d6b-6831b68ffedf\"},{\"type\":\"object\",\"name\":\"panel.models.comm_manager.CommManager\",\"id\":\"c0116c41-c30f-4526-a537-a289bde769db\",\"attributes\":{\"plot_id\":\"27b9ba89-b801-413a-9d6b-6831b68ffedf\",\"comm_id\":\"3440669b2e344e93b8bc089e2203db57\",\"client_comm_id\":\"9c3552876ee34a75afe1ac809acedccb\"}}],\"defs\":[{\"type\":\"model\",\"name\":\"ReactiveHTML1\"},{\"type\":\"model\",\"name\":\"FlexBox1\",\"properties\":[{\"name\":\"align_content\",\"kind\":\"Any\",\"default\":\"flex-start\"},{\"name\":\"align_items\",\"kind\":\"Any\",\"default\":\"flex-start\"},{\"name\":\"flex_direction\",\"kind\":\"Any\",\"default\":\"row\"},{\"name\":\"flex_wrap\",\"kind\":\"Any\",\"default\":\"wrap\"},{\"name\":\"gap\",\"kind\":\"Any\",\"default\":\"\"},{\"name\":\"justify_content\",\"kind\":\"Any\",\"default\":\"flex-start\"}]},{\"type\":\"model\",\"name\":\"FloatPanel1\",\"properties\":[{\"name\":\"config\",\"kind\":\"Any\",\"default\":{\"type\":\"map\"}},{\"name\":\"contained\",\"kind\":\"Any\",\"default\":true},{\"name\":\"position\",\"kind\":\"Any\",\"default\":\"right-top\"},{\"name\":\"offsetx\",\"kind\":\"Any\",\"default\":null},{\"name\":\"offsety\",\"kind\":\"Any\",\"default\":null},{\"name\":\"theme\",\"kind\":\"Any\",\"default\":\"primary\"},{\"name\":\"status\",\"kind\":\"Any\",\"default\":\"normalized\"}]},{\"type\":\"model\",\"name\":\"GridStack1\",\"properties\":[{\"name\":\"mode\",\"kind\":\"Any\",\"default\":\"warn\"},{\"name\":\"ncols\",\"kind\":\"Any\",\"default\":null},{\"name\":\"nrows\",\"kind\":\"Any\",\"default\":null},{\"name\":\"allow_resize\",\"kind\":\"Any\",\"default\":true},{\"name\":\"allow_drag\",\"kind\":\"Any\",\"default\":true},{\"name\":\"state\",\"kind\":\"Any\",\"default\":[]}]},{\"type\":\"model\",\"name\":\"drag1\",\"properties\":[{\"name\":\"slider_width\",\"kind\":\"Any\",\"default\":5},{\"name\":\"slider_color\",\"kind\":\"Any\",\"default\":\"black\"},{\"name\":\"value\",\"kind\":\"Any\",\"default\":50}]},{\"type\":\"model\",\"name\":\"click1\",\"properties\":[{\"name\":\"terminal_output\",\"kind\":\"Any\",\"default\":\"\"},{\"name\":\"debug_name\",\"kind\":\"Any\",\"default\":\"\"},{\"name\":\"clears\",\"kind\":\"Any\",\"default\":0}]},{\"type\":\"model\",\"name\":\"FastWrapper1\",\"properties\":[{\"name\":\"object\",\"kind\":\"Any\",\"default\":null},{\"name\":\"style\",\"kind\":\"Any\",\"default\":null}]},{\"type\":\"model\",\"name\":\"NotificationAreaBase1\",\"properties\":[{\"name\":\"js_events\",\"kind\":\"Any\",\"default\":{\"type\":\"map\"}},{\"name\":\"position\",\"kind\":\"Any\",\"default\":\"bottom-right\"},{\"name\":\"_clear\",\"kind\":\"Any\",\"default\":0}]},{\"type\":\"model\",\"name\":\"NotificationArea1\",\"properties\":[{\"name\":\"js_events\",\"kind\":\"Any\",\"default\":{\"type\":\"map\"}},{\"name\":\"notifications\",\"kind\":\"Any\",\"default\":[]},{\"name\":\"position\",\"kind\":\"Any\",\"default\":\"bottom-right\"},{\"name\":\"_clear\",\"kind\":\"Any\",\"default\":0},{\"name\":\"types\",\"kind\":\"Any\",\"default\":[{\"type\":\"map\",\"entries\":[[\"type\",\"warning\"],[\"background\",\"#ffc107\"],[\"icon\",{\"type\":\"map\",\"entries\":[[\"className\",\"fas fa-exclamation-triangle\"],[\"tagName\",\"i\"],[\"color\",\"white\"]]}]]},{\"type\":\"map\",\"entries\":[[\"type\",\"info\"],[\"background\",\"#007bff\"],[\"icon\",{\"type\":\"map\",\"entries\":[[\"className\",\"fas fa-info-circle\"],[\"tagName\",\"i\"],[\"color\",\"white\"]]}]]}]}]},{\"type\":\"model\",\"name\":\"Notification\",\"properties\":[{\"name\":\"background\",\"kind\":\"Any\",\"default\":null},{\"name\":\"duration\",\"kind\":\"Any\",\"default\":3000},{\"name\":\"icon\",\"kind\":\"Any\",\"default\":null},{\"name\":\"message\",\"kind\":\"Any\",\"default\":\"\"},{\"name\":\"notification_type\",\"kind\":\"Any\",\"default\":null},{\"name\":\"_rendered\",\"kind\":\"Any\",\"default\":false},{\"name\":\"_destroyed\",\"kind\":\"Any\",\"default\":false}]},{\"type\":\"model\",\"name\":\"TemplateActions1\",\"properties\":[{\"name\":\"open_modal\",\"kind\":\"Any\",\"default\":0},{\"name\":\"close_modal\",\"kind\":\"Any\",\"default\":0}]},{\"type\":\"model\",\"name\":\"BootstrapTemplateActions1\",\"properties\":[{\"name\":\"open_modal\",\"kind\":\"Any\",\"default\":0},{\"name\":\"close_modal\",\"kind\":\"Any\",\"default\":0}]},{\"type\":\"model\",\"name\":\"TemplateEditor1\",\"properties\":[{\"name\":\"layout\",\"kind\":\"Any\",\"default\":[]}]},{\"type\":\"model\",\"name\":\"MaterialTemplateActions1\",\"properties\":[{\"name\":\"open_modal\",\"kind\":\"Any\",\"default\":0},{\"name\":\"close_modal\",\"kind\":\"Any\",\"default\":0}]},{\"type\":\"model\",\"name\":\"ReactiveESM1\",\"properties\":[{\"name\":\"esm_constants\",\"kind\":\"Any\",\"default\":{\"type\":\"map\"}}]},{\"type\":\"model\",\"name\":\"JSComponent1\",\"properties\":[{\"name\":\"esm_constants\",\"kind\":\"Any\",\"default\":{\"type\":\"map\"}}]},{\"type\":\"model\",\"name\":\"ReactComponent1\",\"properties\":[{\"name\":\"esm_constants\",\"kind\":\"Any\",\"default\":{\"type\":\"map\"}}]},{\"type\":\"model\",\"name\":\"AnyWidgetComponent1\",\"properties\":[{\"name\":\"esm_constants\",\"kind\":\"Any\",\"default\":{\"type\":\"map\"}}]},{\"type\":\"model\",\"name\":\"request_value1\",\"properties\":[{\"name\":\"fill\",\"kind\":\"Any\",\"default\":\"none\"},{\"name\":\"_synced\",\"kind\":\"Any\",\"default\":null},{\"name\":\"_request_sync\",\"kind\":\"Any\",\"default\":0}]}]}};\n",
       "  var render_items = [{\"docid\":\"39aa779f-a70c-42e6-bfab-ff175b29333f\",\"roots\":{\"27b9ba89-b801-413a-9d6b-6831b68ffedf\":\"d68fc4cf-1a29-45a8-93fc-8591ad013673\"},\"root_ids\":[\"27b9ba89-b801-413a-9d6b-6831b68ffedf\"]}];\n",
       "  var docs = Object.values(docs_json)\n",
       "  if (!docs) {\n",
       "    return\n",
       "  }\n",
       "  const py_version = docs[0].version.replace('rc', '-rc.').replace('.dev', '-dev.')\n",
       "  async function embed_document(root) {\n",
       "    var Bokeh = get_bokeh(root)\n",
       "    await Bokeh.embed.embed_items_notebook(docs_json, render_items);\n",
       "    for (const render_item of render_items) {\n",
       "      for (const root_id of render_item.root_ids) {\n",
       "\tconst id_el = document.getElementById(root_id)\n",
       "\tif (id_el.children.length && id_el.children[0].hasAttribute('data-root-id')) {\n",
       "\t  const root_el = id_el.children[0]\n",
       "\t  root_el.id = root_el.id + '-rendered'\n",
       "\t  for (const child of root_el.children) {\n",
       "            // Ensure JupyterLab does not capture keyboard shortcuts\n",
       "            // see: https://jupyterlab.readthedocs.io/en/4.1.x/extension/notebook.html#keyboard-interaction-model\n",
       "\t    child.setAttribute('data-lm-suppress-shortcuts', 'true')\n",
       "\t  }\n",
       "\t}\n",
       "      }\n",
       "    }\n",
       "  }\n",
       "  function get_bokeh(root) {\n",
       "    if (root.Bokeh === undefined) {\n",
       "      return null\n",
       "    } else if (root.Bokeh.version !== py_version) {\n",
       "      if (root.Bokeh.versions === undefined || !root.Bokeh.versions.has(py_version)) {\n",
       "\treturn null\n",
       "      }\n",
       "      return root.Bokeh.versions.get(py_version);\n",
       "    } else if (root.Bokeh.version === py_version) {\n",
       "      return root.Bokeh\n",
       "    }\n",
       "    return null\n",
       "  }\n",
       "  function is_loaded(root) {\n",
       "    var Bokeh = get_bokeh(root)\n",
       "    return (Bokeh != null && Bokeh.Panel !== undefined)\n",
       "  }\n",
       "  if (is_loaded(root)) {\n",
       "    embed_document(root);\n",
       "  } else {\n",
       "    var attempts = 0;\n",
       "    var timer = setInterval(function(root) {\n",
       "      if (is_loaded(root)) {\n",
       "        clearInterval(timer);\n",
       "        embed_document(root);\n",
       "      } else if (document.readyState == \"complete\") {\n",
       "        attempts++;\n",
       "        if (attempts > 200) {\n",
       "          clearInterval(timer);\n",
       "\t  var Bokeh = get_bokeh(root)\n",
       "\t  if (Bokeh == null || Bokeh.Panel == null) {\n",
       "            console.warn(\"Panel: ERROR: Unable to run Panel code because Bokeh or Panel library is missing\");\n",
       "\t  } else {\n",
       "\t    console.warn(\"Panel: WARNING: Attempting to render but not all required libraries could be resolved.\")\n",
       "\t    embed_document(root)\n",
       "\t  }\n",
       "        }\n",
       "      }\n",
       "    }, 25, root)\n",
       "  }\n",
       "})(window);</script>"
      ]
     },
     "metadata": {
      "application/vnd.holoviews_exec.v0+json": {
       "id": "27b9ba89-b801-413a-9d6b-6831b68ffedf"
      }
     },
     "output_type": "display_data"
    }
   ],
   "source": [
    "import hvplot.pandas\n",
    "import pandas as pd"
   ]
  },
  {
   "cell_type": "code",
   "execution_count": 64,
   "metadata": {},
   "outputs": [
    {
     "data": {
      "text/html": [
       "    <style>\n",
       "        .bk-notebook-logo {\n",
       "            display: block;\n",
       "            width: 20px;\n",
       "            height: 20px;\n",
       "            background-image: url(data:image/png;base64,iVBORw0KGgoAAAANSUhEUgAAABQAAAAUCAYAAACNiR0NAAAABHNCSVQICAgIfAhkiAAAAAlwSFlzAAALEgAACxIB0t1+/AAAABx0RVh0U29mdHdhcmUAQWRvYmUgRmlyZXdvcmtzIENTNui8sowAAAOkSURBVDiNjZRtaJVlGMd/1/08zzln5zjP1LWcU9N0NkN8m2CYjpgQYQXqSs0I84OLIC0hkEKoPtiH3gmKoiJDU7QpLgoLjLIQCpEsNJ1vqUOdO7ppbuec5+V+rj4ctwzd8IIbbi6u+8f1539dt3A78eXC7QizUF7gyV1fD1Yqg4JWz84yffhm0qkFqBogB9rM8tZdtwVsPUhWhGcFJngGeWrPzHm5oaMmkfEg1usvLFyc8jLRqDOMru7AyC8saQr7GG7f5fvDeH7Ej8CM66nIF+8yngt6HWaKh7k49Soy9nXurCi1o3qUbS3zWfrYeQDTB/Qj6kX6Ybhw4B+bOYoLKCC9H3Nu/leUTZ1JdRWkkn2ldcCamzrcf47KKXdAJllSlxAOkRgyHsGC/zRday5Qld9DyoM4/q/rUoy/CXh3jzOu3bHUVZeU+DEn8FInkPBFlu3+nW3Nw0mk6vCDiWg8CeJaxEwuHS3+z5RgY+YBR6V1Z1nxSOfoaPa4LASWxxdNp+VWTk7+4vzaou8v8PN+xo+KY2xsw6une2frhw05CTYOmQvsEhjhWjn0bmXPjpE1+kplmmkP3suftwTubK9Vq22qKmrBhpY4jvd5afdRA3wGjFAgcnTK2s4hY0/GPNIb0nErGMCRxWOOX64Z8RAC4oCXdklmEvcL8o0BfkNK4lUg9HTl+oPlQxdNo3Mg4Nv175e/1LDGzZen30MEjRUtmXSfiTVu1kK8W4txyV6BMKlbgk3lMwYCiusNy9fVfvvwMxv8Ynl6vxoByANLTWplvuj/nF9m2+PDtt1eiHPBr1oIfhCChQMBw6Aw0UulqTKZdfVvfG7VcfIqLG9bcldL/+pdWTLxLUy8Qq38heUIjh4XlzZxzQm19lLFlr8vdQ97rjZVOLf8nclzckbcD4wxXMidpX30sFd37Fv/GtwwhzhxGVAprjbg0gCAEeIgwCZyTV2Z1REEW8O4py0wsjeloKoMr6iCY6dP92H6Vw/oTyICIthibxjm/DfN9lVz8IqtqKYLUXfoKVMVQVVJOElGjrnnUt9T9wbgp8AyYKaGlqingHZU/uG2NTZSVqwHQTWkx9hxjkpWDaCg6Ckj5qebgBVbT3V3NNXMSiWSDdGV3hrtzla7J+duwPOToIg42ChPQOQjspnSlp1V+Gjdged7+8UN5CRAV7a5EdFNwCjEaBR27b3W890TE7g24NAP/mMDXRWrGoFPQI9ls/MWO2dWFAar/xcOIImbbpA3zgAAAABJRU5ErkJggg==);\n",
       "        }\n",
       "    </style>\n",
       "    <div>\n",
       "        <a href=\"https://bokeh.org\" target=\"_blank\" class=\"bk-notebook-logo\"></a>\n",
       "        <span id=\"f86f643e-36c3-4bab-9177-d1428b80d3fb\">Loading BokehJS ...</span>\n",
       "    </div>\n"
      ]
     },
     "metadata": {},
     "output_type": "display_data"
    },
    {
     "data": {
      "application/javascript": "'use strict';\n(function(root) {\n  function now() {\n    return new Date();\n  }\n\n  const force = true;\n\n  if (typeof root._bokeh_onload_callbacks === \"undefined\" || force === true) {\n    root._bokeh_onload_callbacks = [];\n    root._bokeh_is_loading = undefined;\n  }\n\nconst JS_MIME_TYPE = 'application/javascript';\n  const HTML_MIME_TYPE = 'text/html';\n  const EXEC_MIME_TYPE = 'application/vnd.bokehjs_exec.v0+json';\n  const CLASS_NAME = 'output_bokeh rendered_html';\n\n  /**\n   * Render data to the DOM node\n   */\n  function render(props, node) {\n    const script = document.createElement(\"script\");\n    node.appendChild(script);\n  }\n\n  /**\n   * Handle when an output is cleared or removed\n   */\n  function handleClearOutput(event, handle) {\n    function drop(id) {\n      const view = Bokeh.index.get_by_id(id)\n      if (view != null) {\n        view.model.document.clear()\n        Bokeh.index.delete(view)\n      }\n    }\n\n    const cell = handle.cell;\n\n    const id = cell.output_area._bokeh_element_id;\n    const server_id = cell.output_area._bokeh_server_id;\n\n    // Clean up Bokeh references\n    if (id != null) {\n      drop(id)\n    }\n\n    if (server_id !== undefined) {\n      // Clean up Bokeh references\n      const cmd_clean = \"from bokeh.io.state import curstate; print(curstate().uuid_to_server['\" + server_id + \"'].get_sessions()[0].document.roots[0]._id)\";\n      cell.notebook.kernel.execute(cmd_clean, {\n        iopub: {\n          output: function(msg) {\n            const id = msg.content.text.trim()\n            drop(id)\n          }\n        }\n      });\n      // Destroy server and session\n      const cmd_destroy = \"import bokeh.io.notebook as ion; ion.destroy_server('\" + server_id + \"')\";\n      cell.notebook.kernel.execute(cmd_destroy);\n    }\n  }\n\n  /**\n   * Handle when a new output is added\n   */\n  function handleAddOutput(event, handle) {\n    const output_area = handle.output_area;\n    const output = handle.output;\n\n    // limit handleAddOutput to display_data with EXEC_MIME_TYPE content only\n    if ((output.output_type != \"display_data\") || (!Object.prototype.hasOwnProperty.call(output.data, EXEC_MIME_TYPE))) {\n      return\n    }\n\n    const toinsert = output_area.element.find(\".\" + CLASS_NAME.split(' ')[0]);\n\n    if (output.metadata[EXEC_MIME_TYPE][\"id\"] !== undefined) {\n      toinsert[toinsert.length - 1].firstChild.textContent = output.data[JS_MIME_TYPE];\n      // store reference to embed id on output_area\n      output_area._bokeh_element_id = output.metadata[EXEC_MIME_TYPE][\"id\"];\n    }\n    if (output.metadata[EXEC_MIME_TYPE][\"server_id\"] !== undefined) {\n      const bk_div = document.createElement(\"div\");\n      bk_div.innerHTML = output.data[HTML_MIME_TYPE];\n      const script_attrs = bk_div.children[0].attributes;\n      for (let i = 0; i < script_attrs.length; i++) {\n        toinsert[toinsert.length - 1].firstChild.setAttribute(script_attrs[i].name, script_attrs[i].value);\n        toinsert[toinsert.length - 1].firstChild.textContent = bk_div.children[0].textContent\n      }\n      // store reference to server id on output_area\n      output_area._bokeh_server_id = output.metadata[EXEC_MIME_TYPE][\"server_id\"];\n    }\n  }\n\n  function register_renderer(events, OutputArea) {\n\n    function append_mime(data, metadata, element) {\n      // create a DOM node to render to\n      const toinsert = this.create_output_subarea(\n        metadata,\n        CLASS_NAME,\n        EXEC_MIME_TYPE\n      );\n      this.keyboard_manager.register_events(toinsert);\n      // Render to node\n      const props = {data: data, metadata: metadata[EXEC_MIME_TYPE]};\n      render(props, toinsert[toinsert.length - 1]);\n      element.append(toinsert);\n      return toinsert\n    }\n\n    /* Handle when an output is cleared or removed */\n    events.on('clear_output.CodeCell', handleClearOutput);\n    events.on('delete.Cell', handleClearOutput);\n\n    /* Handle when a new output is added */\n    events.on('output_added.OutputArea', handleAddOutput);\n\n    /**\n     * Register the mime type and append_mime function with output_area\n     */\n    OutputArea.prototype.register_mime_type(EXEC_MIME_TYPE, append_mime, {\n      /* Is output safe? */\n      safe: true,\n      /* Index of renderer in `output_area.display_order` */\n      index: 0\n    });\n  }\n\n  // register the mime type if in Jupyter Notebook environment and previously unregistered\n  if (root.Jupyter !== undefined) {\n    const events = require('base/js/events');\n    const OutputArea = require('notebook/js/outputarea').OutputArea;\n\n    if (OutputArea.prototype.mime_types().indexOf(EXEC_MIME_TYPE) == -1) {\n      register_renderer(events, OutputArea);\n    }\n  }\n  if (typeof (root._bokeh_timeout) === \"undefined\" || force === true) {\n    root._bokeh_timeout = Date.now() + 5000;\n    root._bokeh_failed_load = false;\n  }\n\n  const NB_LOAD_WARNING = {'data': {'text/html':\n     \"<div style='background-color: #fdd'>\\n\"+\n     \"<p>\\n\"+\n     \"BokehJS does not appear to have successfully loaded. If loading BokehJS from CDN, this \\n\"+\n     \"may be due to a slow or bad network connection. Possible fixes:\\n\"+\n     \"</p>\\n\"+\n     \"<ul>\\n\"+\n     \"<li>re-rerun `output_notebook()` to attempt to load from CDN again, or</li>\\n\"+\n     \"<li>use INLINE resources instead, as so:</li>\\n\"+\n     \"</ul>\\n\"+\n     \"<code>\\n\"+\n     \"from bokeh.resources import INLINE\\n\"+\n     \"output_notebook(resources=INLINE)\\n\"+\n     \"</code>\\n\"+\n     \"</div>\"}};\n\n  function display_loaded(error = null) {\n    const el = document.getElementById(\"f86f643e-36c3-4bab-9177-d1428b80d3fb\");\n    if (el != null) {\n      const html = (() => {\n        if (typeof root.Bokeh === \"undefined\") {\n          if (error == null) {\n            return \"BokehJS is loading ...\";\n          } else {\n            return \"BokehJS failed to load.\";\n          }\n        } else {\n          const prefix = `BokehJS ${root.Bokeh.version}`;\n          if (error == null) {\n            return `${prefix} successfully loaded.`;\n          } else {\n            return `${prefix} <b>encountered errors</b> while loading and may not function as expected.`;\n          }\n        }\n      })();\n      el.innerHTML = html;\n\n      if (error != null) {\n        const wrapper = document.createElement(\"div\");\n        wrapper.style.overflow = \"auto\";\n        wrapper.style.height = \"5em\";\n        wrapper.style.resize = \"vertical\";\n        const content = document.createElement(\"div\");\n        content.style.fontFamily = \"monospace\";\n        content.style.whiteSpace = \"pre-wrap\";\n        content.style.backgroundColor = \"rgb(255, 221, 221)\";\n        content.textContent = error.stack ?? error.toString();\n        wrapper.append(content);\n        el.append(wrapper);\n      }\n    } else if (Date.now() < root._bokeh_timeout) {\n      setTimeout(() => display_loaded(error), 100);\n    }\n  }\n\n  function run_callbacks() {\n    try {\n      root._bokeh_onload_callbacks.forEach(function(callback) {\n        if (callback != null)\n          callback();\n      });\n    } finally {\n      delete root._bokeh_onload_callbacks\n    }\n    console.debug(\"Bokeh: all callbacks have finished\");\n  }\n\n  function load_libs(css_urls, js_urls, callback) {\n    if (css_urls == null) css_urls = [];\n    if (js_urls == null) js_urls = [];\n\n    root._bokeh_onload_callbacks.push(callback);\n    if (root._bokeh_is_loading > 0) {\n      console.debug(\"Bokeh: BokehJS is being loaded, scheduling callback at\", now());\n      return null;\n    }\n    if (js_urls == null || js_urls.length === 0) {\n      run_callbacks();\n      return null;\n    }\n    console.debug(\"Bokeh: BokehJS not loaded, scheduling load and callback at\", now());\n    root._bokeh_is_loading = css_urls.length + js_urls.length;\n\n    function on_load() {\n      root._bokeh_is_loading--;\n      if (root._bokeh_is_loading === 0) {\n        console.debug(\"Bokeh: all BokehJS libraries/stylesheets loaded\");\n        run_callbacks()\n      }\n    }\n\n    function on_error(url) {\n      console.error(\"failed to load \" + url);\n    }\n\n    for (let i = 0; i < css_urls.length; i++) {\n      const url = css_urls[i];\n      const element = document.createElement(\"link\");\n      element.onload = on_load;\n      element.onerror = on_error.bind(null, url);\n      element.rel = \"stylesheet\";\n      element.type = \"text/css\";\n      element.href = url;\n      console.debug(\"Bokeh: injecting link tag for BokehJS stylesheet: \", url);\n      document.body.appendChild(element);\n    }\n\n    for (let i = 0; i < js_urls.length; i++) {\n      const url = js_urls[i];\n      const element = document.createElement('script');\n      element.onload = on_load;\n      element.onerror = on_error.bind(null, url);\n      element.async = false;\n      element.src = url;\n      console.debug(\"Bokeh: injecting script tag for BokehJS library: \", url);\n      document.head.appendChild(element);\n    }\n  };\n\n  function inject_raw_css(css) {\n    const element = document.createElement(\"style\");\n    element.appendChild(document.createTextNode(css));\n    document.body.appendChild(element);\n  }\n\n  const js_urls = [\"static/extensions/panel/bundled/reactiveesm/es-module-shims@^1.10.0/dist/es-module-shims.min.js\", \"https://cdn.bokeh.org/bokeh/release/bokeh-3.6.3.min.js\", \"https://cdn.bokeh.org/bokeh/release/bokeh-gl-3.6.3.min.js\", \"https://cdn.bokeh.org/bokeh/release/bokeh-widgets-3.6.3.min.js\", \"https://cdn.bokeh.org/bokeh/release/bokeh-tables-3.6.3.min.js\", \"https://cdn.bokeh.org/bokeh/release/bokeh-mathjax-3.6.3.min.js\", \"https://unpkg.com/@holoviz/panel@1.6.1/dist/panel.min.js\"];\n  const css_urls = [];\n\n  const inline_js = [    function(Bokeh) {\n      Bokeh.set_log_level(\"info\");\n    },\nfunction(Bokeh) {\n    }\n  ];\n\n  function run_inline_js() {\n    if (root.Bokeh !== undefined || force === true) {\n      try {\n            for (let i = 0; i < inline_js.length; i++) {\n      inline_js[i].call(root, root.Bokeh);\n    }\n\n      } catch (error) {display_loaded(error);throw error;\n      }if (force === true) {\n        display_loaded();\n      }} else if (Date.now() < root._bokeh_timeout) {\n      setTimeout(run_inline_js, 100);\n    } else if (!root._bokeh_failed_load) {\n      console.log(\"Bokeh: BokehJS failed to load within specified timeout.\");\n      root._bokeh_failed_load = true;\n    } else if (force !== true) {\n      const cell = $(document.getElementById(\"f86f643e-36c3-4bab-9177-d1428b80d3fb\")).parents('.cell').data().cell;\n      cell.output_area.append_execute_result(NB_LOAD_WARNING)\n    }\n  }\n\n  if (root._bokeh_is_loading === 0) {\n    console.debug(\"Bokeh: BokehJS loaded, going straight to plotting\");\n    run_inline_js();\n  } else {\n    load_libs(css_urls, js_urls, function() {\n      console.debug(\"Bokeh: BokehJS plotting callback run at\", now());\n      run_inline_js();\n    });\n  }\n}(window));",
      "application/vnd.bokehjs_load.v0+json": ""
     },
     "metadata": {},
     "output_type": "display_data"
    }
   ],
   "source": [
    "import bokeh.io\n",
    "bokeh.io.output_notebook()"
   ]
  },
  {
   "cell_type": "code",
   "execution_count": 65,
   "metadata": {},
   "outputs": [],
   "source": [
    "df = pd.read_csv('../data/all_time_league_leaders_2025.03.08.csv')"
   ]
  },
  {
   "cell_type": "code",
   "execution_count": 66,
   "metadata": {},
   "outputs": [],
   "source": [
    "season_max_gp = df.groupby('SEASON')['GP'].max()"
   ]
  },
  {
   "cell_type": "code",
   "execution_count": 67,
   "metadata": {},
   "outputs": [],
   "source": [
    "def normalize_season_lengths(row):\n",
    "    pts = row['PTS']\n",
    "    max_played = season_max_gp[row['SEASON']]\n",
    "    return pts * (82 / max_played)\n",
    "\n",
    "def normalize_games_played(row):\n",
    "    pts = row['PTS']\n",
    "    games_played = row['GP']\n",
    "    return pts * (82 / games_played)"
   ]
  },
  {
   "cell_type": "code",
   "execution_count": 68,
   "metadata": {},
   "outputs": [],
   "source": [
    "df['PTS_avg'] = df['PTS'] / df['GP']\n",
    "df['PTS_season_norm'] = df.apply(normalize_season_lengths, axis=1).astype(int)\n",
    "df['PTS_game_norm'] = df.apply(normalize_games_played, axis=1).astype(int)"
   ]
  },
  {
   "cell_type": "code",
   "execution_count": 78,
   "metadata": {},
   "outputs": [],
   "source": [
    "top_10_total = df.sort_values(['SEASON', 'PTS'], ascending=[True, False]).groupby('SEASON').head(10).copy()\n",
    "top_10_season_norm = df.sort_values(['SEASON', 'PTS_season_norm'], ascending=[True, False]).groupby('SEASON').head(10).copy()\n",
    "top_10_game_norm = df.sort_values(['SEASON', 'PTS_game_norm'], ascending=[True, False]).groupby('SEASON').head(10).copy()\n",
    "top_10_avg = df[(df['GP'] >= 58) | (df['SEASON'] == 1998)].sort_values(['SEASON', 'PTS_avg'], ascending=[True, False]).groupby('SEASON').head(10).copy()"
   ]
  },
  {
   "cell_type": "code",
   "execution_count": 79,
   "metadata": {},
   "outputs": [],
   "source": [
    "scoring_title_total = df.sort_values(['SEASON', 'PTS'], ascending=[True, False]).groupby('SEASON').head(1).copy()\n",
    "scoring_title_season_norm = df.sort_values(['SEASON', 'PTS_season_norm'], ascending=[True, False]).groupby('SEASON').head(1).copy()\n",
    "scoring_title_game_norm = df.sort_values(['SEASON', 'PTS_game_norm'], ascending=[True, False]).groupby('SEASON').head(1).copy()\n",
    "scoring_title_avg = df[(df['GP'] >= 58) | (df['SEASON'] == 1998)].sort_values(['SEASON', 'PTS_avg'], ascending=[True, False]).groupby('SEASON').head(1).copy()"
   ]
  },
  {
   "cell_type": "code",
   "execution_count": 74,
   "metadata": {},
   "outputs": [
    {
     "data": {},
     "metadata": {},
     "output_type": "display_data"
    },
    {
     "data": {
      "application/vnd.holoviews_exec.v0+json": "",
      "text/html": [
       "<div id='7fd88baf-5229-476e-86f5-d434f9efe820'>\n",
       "  <div id=\"b8cec23b-80e1-49f2-b54f-b0699b053583\" data-root-id=\"7fd88baf-5229-476e-86f5-d434f9efe820\" style=\"display: contents;\"></div>\n",
       "</div>\n",
       "<script type=\"application/javascript\">(function(root) {\n",
       "  var docs_json = {\"5dff6a9e-b024-45d9-a8eb-8000c0c325d4\":{\"version\":\"3.6.3\",\"title\":\"Bokeh Application\",\"roots\":[{\"type\":\"object\",\"name\":\"Row\",\"id\":\"7fd88baf-5229-476e-86f5-d434f9efe820\",\"attributes\":{\"name\":\"Row03977\",\"tags\":[\"embedded\"],\"stylesheets\":[\"\\n:host(.pn-loading):before, .pn-loading:before {\\n  background-color: #c3c3c3;\\n  mask-size: auto calc(min(50%, 400px));\\n  -webkit-mask-size: auto calc(min(50%, 400px));\\n}\",{\"type\":\"object\",\"name\":\"ImportedStyleSheet\",\"id\":\"444afe2f-6247-407a-8b64-f26014c770e6\",\"attributes\":{\"url\":\"https://cdn.holoviz.org/panel/1.6.1/dist/css/loading.css\"}},{\"type\":\"object\",\"name\":\"ImportedStyleSheet\",\"id\":\"21d9967e-1039-4655-a975-d55ecc9d3a56\",\"attributes\":{\"url\":\"https://cdn.holoviz.org/panel/1.6.1/dist/css/listpanel.css\"}},{\"type\":\"object\",\"name\":\"ImportedStyleSheet\",\"id\":\"35c18f40-ccb3-4bda-8540-ce2ce8cc9e6a\",\"attributes\":{\"url\":\"https://cdn.holoviz.org/panel/1.6.1/dist/bundled/theme/default.css\"}},{\"type\":\"object\",\"name\":\"ImportedStyleSheet\",\"id\":\"a308478d-913c-40d1-beff-0bc2d963a6ee\",\"attributes\":{\"url\":\"https://cdn.holoviz.org/panel/1.6.1/dist/bundled/theme/native.css\"}}],\"min_width\":700,\"margin\":0,\"sizing_mode\":\"stretch_width\",\"align\":\"start\",\"children\":[{\"type\":\"object\",\"name\":\"Spacer\",\"id\":\"f42fbf47-d23c-483c-aef5-b30734d283d5\",\"attributes\":{\"name\":\"HSpacer03981\",\"stylesheets\":[\"\\n:host(.pn-loading):before, .pn-loading:before {\\n  background-color: #c3c3c3;\\n  mask-size: auto calc(min(50%, 400px));\\n  -webkit-mask-size: auto calc(min(50%, 400px));\\n}\",{\"id\":\"444afe2f-6247-407a-8b64-f26014c770e6\"},{\"id\":\"35c18f40-ccb3-4bda-8540-ce2ce8cc9e6a\"},{\"id\":\"a308478d-913c-40d1-beff-0bc2d963a6ee\"}],\"margin\":0,\"sizing_mode\":\"stretch_width\",\"align\":\"start\"}},{\"type\":\"object\",\"name\":\"Figure\",\"id\":\"daff78d4-3666-4fb1-bcc7-09c34154a3d2\",\"attributes\":{\"width\":700,\"height\":300,\"margin\":[5,10],\"sizing_mode\":\"fixed\",\"align\":\"start\",\"x_range\":{\"type\":\"object\",\"name\":\"Range1d\",\"id\":\"9ba9c0e5-74e4-40ff-afe2-e845ecd5b0b2\",\"attributes\":{\"name\":\"SEASON\",\"tags\":[[[\"SEASON\",null]],[]],\"start\":1951.0,\"end\":2024.0,\"reset_start\":1951.0,\"reset_end\":2024.0}},\"y_range\":{\"type\":\"object\",\"name\":\"Range1d\",\"id\":\"212841e3-f4e4-4d7a-bbed-498fcf47f241\",\"attributes\":{\"name\":\"PTS\",\"tags\":[[[\"PTS\",null]],{\"type\":\"map\",\"entries\":[[\"invert_yaxis\",false],[\"autorange\",false]]}],\"start\":1009.5,\"end\":4303.5,\"reset_start\":1009.5,\"reset_end\":4303.5}},\"x_scale\":{\"type\":\"object\",\"name\":\"LinearScale\",\"id\":\"8c126c07-2d8a-4336-9455-94439e538954\"},\"y_scale\":{\"type\":\"object\",\"name\":\"LinearScale\",\"id\":\"7f9757eb-d560-403b-9de8-65d8a40c0402\"},\"title\":{\"type\":\"object\",\"name\":\"Title\",\"id\":\"a707c1cf-b77d-4ac9-bc4c-b7b9eadb2d70\",\"attributes\":{\"text_color\":\"black\",\"text_font_size\":\"12pt\"}},\"renderers\":[{\"type\":\"object\",\"name\":\"GlyphRenderer\",\"id\":\"037166f5-d0de-449c-bfdf-9e178ad23dc6\",\"attributes\":{\"data_source\":{\"type\":\"object\",\"name\":\"ColumnDataSource\",\"id\":\"199db5dc-32a3-46b7-ab56-3084ac74234d\",\"attributes\":{\"selected\":{\"type\":\"object\",\"name\":\"Selection\",\"id\":\"1447ae1f-f860-4ae5-9d0d-cb32450aa2a9\",\"attributes\":{\"indices\":[],\"line_indices\":[]}},\"selection_policy\":{\"type\":\"object\",\"name\":\"UnionRenderers\",\"id\":\"324592f0-0d0a-4290-af60-f79d24f457e0\"},\"data\":{\"type\":\"map\",\"entries\":[[\"SEASON\",{\"type\":\"ndarray\",\"array\":{\"type\":\"bytes\",\"data\":\"nwcAAKAHAAChBwAAogcAAKMHAACkBwAApQcAAKYHAACnBwAAqAcAAKkHAACqBwAAqwcAAKwHAACtBwAArgcAAK8HAACwBwAAsQcAALIHAACzBwAAtAcAALUHAAC2BwAAtwcAALgHAAC5BwAAugcAALsHAAC8BwAAvQcAAL4HAAC/BwAAwAcAAMEHAADCBwAAwwcAAMQHAADFBwAAxgcAAMcHAADIBwAAyQcAAMoHAADLBwAAzAcAAM0HAADOBwAAzwcAANAHAADRBwAA0gcAANMHAADUBwAA1QcAANYHAADXBwAA2AcAANkHAADaBwAA2wcAANwHAADdBwAA3gcAAN8HAADgBwAA4QcAAOIHAADjBwAA5AcAAOUHAADmBwAA5wcAAOgHAAA=\"},\"shape\":[74],\"dtype\":\"int32\",\"order\":\"little\"}],[\"PTS\",{\"type\":\"ndarray\",\"array\":{\"type\":\"bytes\",\"data\":\"igYAABwGAADfBgAAXwYAADkHAAAZBwAA0QcAADkIAACTCgAA2QsAAL0PAAACDgAAhAsAAOYJAABZCgAA1woAAF4IAAAXCQAAOQkAACQKAAAGCwAAnwoAANUIAAAPCwAAewkAAOEIAAC4CAAAPQkAABkKAACUCQAA9wkAABYJAAByCQAACQkAAG4JAADhCwAANAsAAEkKAADBCgAAFAoAAGQJAADtCQAATwkAAAsJAAC7CQAAfwkAADUJAAAJBQAAKAkAAEwJAABgCAAAnQkAAMMHAAD+CAAAEAsAAH4JAAATCQAAUgkAAKgJAABxCAAAOgcAAOgIAAAhCgAAqQgAAEgJAAD+CQAAywgAAAILAAAfCQAA3wcAAGsIAACxCAAAQgkAAM4HAAA=\"},\"shape\":[74],\"dtype\":\"int32\",\"order\":\"little\"}],[\"SEASON_STR\",[\"1951-52\",\"1952-53\",\"1953-54\",\"1954-55\",\"1955-56\",\"1956-57\",\"1957-58\",\"1958-59\",\"1959-60\",\"1960-61\",\"1961-62\",\"1962-63\",\"1963-64\",\"1964-65\",\"1965-66\",\"1966-67\",\"1967-68\",\"1968-69\",\"1969-70\",\"1970-71\",\"1971-72\",\"1972-73\",\"1973-74\",\"1974-75\",\"1975-76\",\"1976-77\",\"1977-78\",\"1978-79\",\"1979-80\",\"1980-81\",\"1981-82\",\"1982-83\",\"1983-84\",\"1984-85\",\"1985-86\",\"1986-87\",\"1987-88\",\"1988-89\",\"1989-90\",\"1990-91\",\"1991-92\",\"1992-93\",\"1993-94\",\"1994-95\",\"1995-96\",\"1996-97\",\"1997-98\",\"1998-99\",\"1999-00\",\"2000-01\",\"2001-02\",\"2002-03\",\"2003-04\",\"2004-05\",\"2005-06\",\"2006-07\",\"2007-08\",\"2008-09\",\"2009-10\",\"2010-11\",\"2011-12\",\"2012-13\",\"2013-14\",\"2014-15\",\"2015-16\",\"2016-17\",\"2017-18\",\"2018-19\",\"2019-20\",\"2020-21\",\"2021-22\",\"2022-23\",\"2023-24\",\"2024-25\"]],[\"PLAYER\",[\"Paul Arizin\",\"Neil Johnston\",\"Neil Johnston\",\"Neil Johnston\",\"Bob Pettit\",\"Paul Arizin\",\"George Yardley\",\"Bob Pettit\",\"Wilt Chamberlain\",\"Wilt Chamberlain\",\"Wilt Chamberlain\",\"Wilt Chamberlain\",\"Wilt Chamberlain\",\"Wilt Chamberlain\",\"Wilt Chamberlain\",\"Rick Barry\",\"Dave Bing\",\"Elvin Hayes\",\"Kareem Abdul-Jabbar\",\"Kareem Abdul-Jabbar\",\"Kareem Abdul-Jabbar\",\"Nate Archibald\",\"Bob McAdoo\",\"Bob McAdoo\",\"Bob McAdoo\",\"Pete Maravich\",\"George Gervin\",\"George Gervin\",\"George Gervin\",\"Adrian Dantley\",\"George Gervin\",\"Alex English\",\"Adrian Dantley\",\"Michael Jordan\",\"Alex English\",\"Michael Jordan\",\"Michael Jordan\",\"Michael Jordan\",\"Michael Jordan\",\"Michael Jordan\",\"Michael Jordan\",\"Michael Jordan\",\"David Robinson\",\"Shaquille O'Neal\",\"Michael Jordan\",\"Michael Jordan\",\"Michael Jordan\",\"Shaquille O'Neal\",\"Shaquille O'Neal\",\"Jerry Stackhouse\",\"Paul Pierce\",\"Kobe Bryant\",\"Kevin Garnett\",\"Allen Iverson\",\"Kobe Bryant\",\"Kobe Bryant\",\"Kobe Bryant\",\"Dwyane Wade\",\"Kevin Durant\",\"Kevin Durant\",\"Kevin Durant\",\"Kevin Durant\",\"Kevin Durant\",\"James Harden\",\"James Harden\",\"Russell Westbrook\",\"LeBron James\",\"James Harden\",\"James Harden\",\"Stephen Curry\",\"Trae Young\",\"Jayson Tatum\",\"Luka Don\\u010di\\u0107\",\"Shai Gilgeous-Alexander\"]],[\"PTS_avg\",{\"type\":\"ndarray\",\"array\":{\"type\":\"bytes\",\"data\":\"XXTRRRddOUB8xVd8xVc2QOQ4juM4bjhAchzHcRynNkDkOI7jOK45QO5ST8ZvlzlAq6qqqqrKO0DHcRzHcTw9QMdxHMdxzEJAZM9AVDoyQ0BmZmZmZi5JQJqZmZmZaUZAzczMzMxsQkCzZcuWLVtBQIhKR/YMxEBAntiJndjJQUA6smcgKh07QOF8DM7HYDxAS9SuRO3KPECpXYnalag/QGKRMvB0a0FAZmZmZmb+QEDdYIp81o0+QIPzMTgfQ0FA2Ymd2IkdP0AxYsSIESM/QDgfg/MxODtAAAAAAACQPUAhDdIgDZJAQGZmZmZmpj5AS0f2DEQlQEBeidqVqF08QDdhfleLmz5AtStRuxI1PEAsUgaebs09QEvUrkTtikJAfQzOx+B8QUC35odFykBAQInalahdyUBAdyVqV6J2P0DNzMzMzAw+QJ7YiZ3YSUBAmpmZmZnJPUCcML+rxU09QOF8DM7HYD5AJWpXonalPUA+BudjcL48QFTwcgpeTjpAV4ubML+rPUAAAAAAAMA9QCVqV6J2JTpAg/MxOB8DPkC7ErUrUTs4QLHkF0t+sT5AMzMzMzOzQUDYO6YG9o4/QNSuRO1KVDxAaCAqHdkzPkAlaleidiU+QEiDNEiDtDtACB988MEHPEBfQnsJ7SU8QG/ND4uUAUBA7SW0l9BeO0D6GJyPwfk8QJ5uzQ+LlD9A9DE4H4NzO0AHaZAGaRBCQEtLS0tLK0FAv+/7vu/7P0CvobyG8lo8QBX5rBtMET5A27Zt27btQEDnfYpLhmBAQA==\"},\"shape\":[74],\"dtype\":\"float64\",\"order\":\"little\"}],[\"PTS_season_norm\",{\"type\":\"ndarray\",\"array\":{\"type\":\"bytes\",\"data\":\"HwgAAPUGAACDBwAADwcAAOUHAAAVCAAA5ggAAF0JAABCCwAATAwAACEQAABbDgAAzQsAACUKAACbCgAA+QoAAF4IAAAXCQAAOQkAACQKAAAGCwAAnwoAANUIAAAPCwAAewkAAOEIAACdCAAAPQkAABkKAACUCQAA2AkAAPkIAAByCQAACQkAAFAJAADhCwAA7woAAEkKAADBCgAAFAoAACoJAADOCQAATwkAAAsJAACcCQAAYQkAADUJAABBCAAA1QgAAC8JAABGCAAAfwkAAHwHAADHCAAAEAsAAH4JAAATCQAAUgkAAKgJAABWCAAA+ggAAOgIAAABCgAAjggAAEgJAAD+CQAAywgAAAILAAAbCgAA9ggAAGsIAACWCAAACQkAANgJAAA=\"},\"shape\":[74],\"dtype\":\"int32\",\"order\":\"little\"}],[\"PTS_game_norm\",{\"type\":\"ndarray\",\"array\":{\"type\":\"bytes\",\"data\":\"HwgAACgHAADTBwAAQQcAADkIAAAyCAAA5ggAAF0JAAAKDAAATAwAACEQAABbDgAAzQsAAB4LAAC9CgAAZQsAAK8IAAAXCQAAOQkAACQKAAAoCwAA4goAAMkJAAAPCwAA9wkAAPkJAAC4CAAAeAkAAJ0KAADRCQAAVwoAABYJAADNCQAACQkAAIsJAADhCwAANAsAAGkKAADBCgAAFAoAAKAJAABvCgAAigkAAGIJAAC7CQAAfwkAADUJAABtCAAAgQkAAIcJAABgCAAAnQkAAMMHAADUCQAAVgsAABsKAAATCQAArAkAAKgJAADfCAAA+ggAAAQJAABBCgAAxAgAAEgJAAAdCgAAywgAAJILAAD/CgAAPgoAABUJAAChCQAA2AoAAH0KAAA=\"},\"shape\":[74],\"dtype\":\"int32\",\"order\":\"little\"}]]}}},\"view\":{\"type\":\"object\",\"name\":\"CDSView\",\"id\":\"83b7f040-7ac2-4478-a44f-5982b8af9b2c\",\"attributes\":{\"filter\":{\"type\":\"object\",\"name\":\"AllIndices\",\"id\":\"9302263d-0a28-4806-8a06-63ab90b78bf2\"}}},\"glyph\":{\"type\":\"object\",\"name\":\"Line\",\"id\":\"3e6a4527-e5a0-4242-8e15-f4411dd5e5c7\",\"attributes\":{\"tags\":[\"apply_ranges\"],\"x\":{\"type\":\"field\",\"field\":\"SEASON\"},\"y\":{\"type\":\"field\",\"field\":\"PTS\"},\"line_color\":\"#30a2da\",\"line_width\":2}},\"selection_glyph\":{\"type\":\"object\",\"name\":\"Line\",\"id\":\"65835bc3-01ae-4439-91d6-dd7786d3ff89\",\"attributes\":{\"tags\":[\"apply_ranges\"],\"x\":{\"type\":\"field\",\"field\":\"SEASON\"},\"y\":{\"type\":\"field\",\"field\":\"PTS\"},\"line_color\":\"#30a2da\",\"line_width\":2}},\"nonselection_glyph\":{\"type\":\"object\",\"name\":\"Line\",\"id\":\"f8b34b62-edf4-4807-b436-672f84f0e7f1\",\"attributes\":{\"tags\":[\"apply_ranges\"],\"x\":{\"type\":\"field\",\"field\":\"SEASON\"},\"y\":{\"type\":\"field\",\"field\":\"PTS\"},\"line_color\":\"#30a2da\",\"line_alpha\":0.1,\"line_width\":2}},\"muted_glyph\":{\"type\":\"object\",\"name\":\"Line\",\"id\":\"84f1278f-e939-45d5-a583-986893bd06d5\",\"attributes\":{\"tags\":[\"apply_ranges\"],\"x\":{\"type\":\"field\",\"field\":\"SEASON\"},\"y\":{\"type\":\"field\",\"field\":\"PTS\"},\"line_color\":\"#30a2da\",\"line_alpha\":0.2,\"line_width\":2}}}},{\"type\":\"object\",\"name\":\"GlyphRenderer\",\"id\":\"ead58abd-9a8a-42a0-999b-ff84e916fa01\",\"attributes\":{\"data_source\":{\"type\":\"object\",\"name\":\"ColumnDataSource\",\"id\":\"ab94e419-aada-43fc-a0c8-f6ca6367bc4c\",\"attributes\":{\"selected\":{\"type\":\"object\",\"name\":\"Selection\",\"id\":\"457281ff-b122-47ed-9bcb-5922b3c11595\",\"attributes\":{\"indices\":[],\"line_indices\":[]}},\"selection_policy\":{\"type\":\"object\",\"name\":\"UnionRenderers\",\"id\":\"3730af5e-8170-4e19-8128-be23e75e6e7f\"},\"data\":{\"type\":\"map\",\"entries\":[[\"SEASON\",{\"type\":\"ndarray\",\"array\":{\"type\":\"bytes\",\"data\":\"nwcAAKAHAAChBwAAogcAAKMHAACkBwAApQcAAKYHAACnBwAAqAcAAKkHAACqBwAAqwcAAKwHAACtBwAArgcAAK8HAACwBwAAsQcAALIHAACzBwAAtAcAALUHAAC2BwAAtwcAALgHAAC5BwAAugcAALsHAAC8BwAAvQcAAL4HAAC/BwAAwAcAAMEHAADCBwAAwwcAAMQHAADFBwAAxgcAAMcHAADIBwAAyQcAAMoHAADLBwAAzAcAAM0HAADOBwAAzwcAANAHAADRBwAA0gcAANMHAADUBwAA1QcAANYHAADXBwAA2AcAANkHAADaBwAA2wcAANwHAADdBwAA3gcAAN8HAADgBwAA4QcAAOIHAADjBwAA5AcAAOUHAADmBwAA5wcAAOgHAAA=\"},\"shape\":[74],\"dtype\":\"int32\",\"order\":\"little\"}],[\"PTS\",{\"type\":\"ndarray\",\"array\":{\"type\":\"bytes\",\"data\":\"igYAABwGAADfBgAAXwYAADkHAAAZBwAA0QcAADkIAACTCgAA2QsAAL0PAAACDgAAhAsAAOYJAABZCgAA1woAAGgHAAAXCQAABQkAACQKAAAGCwAAnwoAANUIAAAPCwAAewkAAOEIAAC4CAAAPQkAABkKAACUCQAA9wkAABYJAAByCQAA9wgAAD4JAADhCwAANAsAAEkKAADBCgAAFAoAAGQJAADtCQAATwkAAAsJAAC7CQAAfwkAADUJAAAEBQAAKAkAAJ8IAABbBwAAZwkAAFYHAAD+CAAAEAsAAH4JAADKCAAAUgkAAKgJAABxCAAAOgcAAIAHAAAhCgAAXgcAAEcJAAD+CQAAjwgAAAILAAAfCQAA3wcAAB8IAACHCAAAQgkAAM4HAAA=\"},\"shape\":[74],\"dtype\":\"int32\",\"order\":\"little\"}],[\"SEASON_STR\",[\"1951-52\",\"1952-53\",\"1953-54\",\"1954-55\",\"1955-56\",\"1956-57\",\"1957-58\",\"1958-59\",\"1959-60\",\"1960-61\",\"1961-62\",\"1962-63\",\"1963-64\",\"1964-65\",\"1965-66\",\"1966-67\",\"1967-68\",\"1968-69\",\"1969-70\",\"1970-71\",\"1971-72\",\"1972-73\",\"1973-74\",\"1974-75\",\"1975-76\",\"1976-77\",\"1977-78\",\"1978-79\",\"1979-80\",\"1980-81\",\"1981-82\",\"1982-83\",\"1983-84\",\"1984-85\",\"1985-86\",\"1986-87\",\"1987-88\",\"1988-89\",\"1989-90\",\"1990-91\",\"1991-92\",\"1992-93\",\"1993-94\",\"1994-95\",\"1995-96\",\"1996-97\",\"1997-98\",\"1998-99\",\"1999-00\",\"2000-01\",\"2001-02\",\"2002-03\",\"2003-04\",\"2004-05\",\"2005-06\",\"2006-07\",\"2007-08\",\"2008-09\",\"2009-10\",\"2010-11\",\"2011-12\",\"2012-13\",\"2013-14\",\"2014-15\",\"2015-16\",\"2016-17\",\"2017-18\",\"2018-19\",\"2019-20\",\"2020-21\",\"2021-22\",\"2022-23\",\"2023-24\",\"2024-25\"]],[\"PLAYER\",[\"Paul Arizin\",\"Neil Johnston\",\"Neil Johnston\",\"Neil Johnston\",\"Bob Pettit\",\"Paul Arizin\",\"George Yardley\",\"Bob Pettit\",\"Wilt Chamberlain\",\"Wilt Chamberlain\",\"Wilt Chamberlain\",\"Wilt Chamberlain\",\"Wilt Chamberlain\",\"Wilt Chamberlain\",\"Wilt Chamberlain\",\"Rick Barry\",\"Oscar Robertson\",\"Elvin Hayes\",\"Jerry West\",\"Kareem Abdul-Jabbar\",\"Kareem Abdul-Jabbar\",\"Nate Archibald\",\"Bob McAdoo\",\"Bob McAdoo\",\"Bob McAdoo\",\"Pete Maravich\",\"George Gervin\",\"George Gervin\",\"George Gervin\",\"Adrian Dantley\",\"George Gervin\",\"Alex English\",\"Adrian Dantley\",\"Larry Bird\",\"Dominique Wilkins\",\"Michael Jordan\",\"Michael Jordan\",\"Michael Jordan\",\"Michael Jordan\",\"Michael Jordan\",\"Michael Jordan\",\"Michael Jordan\",\"David Robinson\",\"Shaquille O'Neal\",\"Michael Jordan\",\"Michael Jordan\",\"Michael Jordan\",\"Allen Iverson\",\"Shaquille O'Neal\",\"Allen Iverson\",\"Allen Iverson\",\"Tracy McGrady\",\"Tracy McGrady\",\"Allen Iverson\",\"Kobe Bryant\",\"Kobe Bryant\",\"LeBron James\",\"Dwyane Wade\",\"Kevin Durant\",\"Kevin Durant\",\"Kevin Durant\",\"Carmelo Anthony\",\"Kevin Durant\",\"Russell Westbrook\",\"Stephen Curry\",\"Russell Westbrook\",\"James Harden\",\"James Harden\",\"James Harden\",\"Stephen Curry\",\"Joel Embiid\",\"Joel Embiid\",\"Luka Don\\u010di\\u0107\",\"Shai Gilgeous-Alexander\"]],[\"PTS_avg\",{\"type\":\"ndarray\",\"array\":{\"type\":\"bytes\",\"data\":\"XXTRRRddOUB8xVd8xVc2QOQ4juM4bjhAchzHcRynNkDkOI7jOK45QO5ST8ZvlzlAq6qqqqrKO0DHcRzHcTw9QMdxHMdxzEJAZM9AVDoyQ0BmZmZmZi5JQJqZmZmZaUZAzczMzMxsQkCzZcuWLVtBQIhKR/YMxEBAntiJndjJQUC1Uiu1Uis9QOF8DM7HYDxAPusGU+QzP0CpXYnalag/QGKRMvB0a0FAZmZmZmb+QEDdYIp81o0+QIPzMTgfQ0FA2Ymd2IkdP0AxYsSIESM/QDgfg/MxODtAAAAAAACQPUAhDdIgDZJAQGZmZmZmpj5AS0f2DEQlQEBeidqVqF08QDdhfleLmz5AAAAAAACwPEBVVVVVVVU+QEvUrkTtikJAfQzOx+B8QUC35odFykBAQInalahdyUBAdyVqV6J2P0DNzMzMzAw+QJ7YiZ3YSUBAmpmZmZnJPUCcML+rxU09QOF8DM7HYD5AJWpXonalPUA+BudjcL48QAAAAAAAwDpAV4ubML+rPUC0wuZAohU/QCIiIiIiYj9AjCW/WPILQEAu/GpMpAc8QLHkF0t+sT5AMzMzMzOzQUDYO6YG9o4/QAAAAAAAAD5AaCAqHdkzPkAlaleidiU+QEiDNEiDtDtACB988MEHPEDxqzGRHqg8QG/ND4uUAUBA5ewWfjUmPEAgKh3ZMxA+QJ5uzQ+LlD9A5DiO4zhuPkAHaZAGaRBCQEtLS0tLK0FAv+/7vu/7P0DT0tLS0pI+QMomm2yyiUBA27Zt27btQEDnfYpLhmBAQA==\"},\"shape\":[74],\"dtype\":\"float64\",\"order\":\"little\"}],[\"PTS_season_norm\",{\"type\":\"ndarray\",\"array\":{\"type\":\"bytes\",\"data\":\"HwgAAPUGAACDBwAADwcAAOUHAAAVCAAA5ggAAF0JAABCCwAATAwAACEQAABbDgAAzQsAACUKAACbCgAA+QoAAGgHAAAXCQAABQkAACQKAAAGCwAAnwoAANUIAAAPCwAAewkAAOEIAACdCAAAPQkAABkKAACUCQAA2AkAAPkIAAByCQAA9wgAACEJAADhCwAA7woAAEkKAADBCgAAFAoAACoJAADOCQAATwkAAAsJAACcCQAAYQkAADUJAAA5CAAA1QgAAIQIAABEBwAASgkAABMHAADHCAAAEAsAAH4JAADKCAAAUgkAAKgJAABWCAAA+ggAAIAHAAABCgAARwcAAEcJAAD+CQAAjwgAAAILAAAbCgAA9ggAAB8IAABsCAAACQkAANgJAAA=\"},\"shape\":[74],\"dtype\":\"int32\",\"order\":\"little\"}],[\"PTS_game_norm\",{\"type\":\"ndarray\",\"array\":{\"type\":\"bytes\",\"data\":\"HwgAACgHAADTBwAAQQcAADkIAAAyCAAA5ggAAF0JAAAKDAAATAwAACEQAABbDgAAzQsAAB4LAAC9CgAAZQsAAFcJAAAXCQAA/gkAACQKAAAoCwAA4goAAMkJAAAPCwAA9wkAAPkJAAC4CAAAeAkAAJ0KAADRCQAAVwoAABYJAADNCQAAMAkAALcJAADhCwAANAsAAGkKAADBCgAAFAoAAKAJAABvCgAAigkAAGIJAAC7CQAAfwkAADUJAACRCAAAgQkAAPQJAAANCgAARwoAAPoIAADUCQAAVgsAABsKAACcCQAArAkAAKgJAADfCAAA+ggAAC0JAABBCgAABAkAAKEJAAAdCgAAvwkAAJILAAD/CgAAPgoAAMsJAACYCgAA2AoAAH0KAAA=\"},\"shape\":[74],\"dtype\":\"int32\",\"order\":\"little\"}]]}}},\"view\":{\"type\":\"object\",\"name\":\"CDSView\",\"id\":\"a9771513-edd3-4be0-8128-56015a488788\",\"attributes\":{\"filter\":{\"type\":\"object\",\"name\":\"AllIndices\",\"id\":\"d5a85248-2f09-41f6-a442-9456ce76cdde\"}}},\"glyph\":{\"type\":\"object\",\"name\":\"Line\",\"id\":\"a6e2dd5a-b6f9-4992-8ced-e85aed2015f3\",\"attributes\":{\"tags\":[\"apply_ranges\"],\"x\":{\"type\":\"field\",\"field\":\"SEASON\"},\"y\":{\"type\":\"field\",\"field\":\"PTS\"},\"line_color\":\"#fc4f30\",\"line_width\":2}},\"selection_glyph\":{\"type\":\"object\",\"name\":\"Line\",\"id\":\"aba5cddd-9235-409d-8b23-ca3ff55f6ef3\",\"attributes\":{\"tags\":[\"apply_ranges\"],\"x\":{\"type\":\"field\",\"field\":\"SEASON\"},\"y\":{\"type\":\"field\",\"field\":\"PTS\"},\"line_color\":\"#fc4f30\",\"line_width\":2}},\"nonselection_glyph\":{\"type\":\"object\",\"name\":\"Line\",\"id\":\"803bfacc-e932-4646-8057-77ad8346880d\",\"attributes\":{\"tags\":[\"apply_ranges\"],\"x\":{\"type\":\"field\",\"field\":\"SEASON\"},\"y\":{\"type\":\"field\",\"field\":\"PTS\"},\"line_color\":\"#fc4f30\",\"line_alpha\":0.1,\"line_width\":2}},\"muted_glyph\":{\"type\":\"object\",\"name\":\"Line\",\"id\":\"49585cb8-9816-404a-9254-f28d867380d4\",\"attributes\":{\"tags\":[\"apply_ranges\"],\"x\":{\"type\":\"field\",\"field\":\"SEASON\"},\"y\":{\"type\":\"field\",\"field\":\"PTS\"},\"line_color\":\"#fc4f30\",\"line_alpha\":0.2,\"line_width\":2}}}}],\"toolbar\":{\"type\":\"object\",\"name\":\"Toolbar\",\"id\":\"bc3f7703-c93f-430d-8e2d-fd92ca6a8542\",\"attributes\":{\"tools\":[{\"type\":\"object\",\"name\":\"WheelZoomTool\",\"id\":\"b1515f5e-34a5-48f6-a2b4-e016d0baef12\",\"attributes\":{\"tags\":[\"hv_created\"],\"renderers\":\"auto\",\"zoom_together\":\"none\"}},{\"type\":\"object\",\"name\":\"HoverTool\",\"id\":\"217400e1-7c5d-40e7-bf32-201c333a19cb\",\"attributes\":{\"tags\":[\"hv_created\"],\"renderers\":[{\"id\":\"037166f5-d0de-449c-bfdf-9e178ad23dc6\"},{\"id\":\"ead58abd-9a8a-42a0-999b-ff84e916fa01\"}],\"tooltips\":[[\"SEASON\",\"@{SEASON}\"],[\"PTS\",\"@{PTS}\"],[\"SEASON_STR\",\"@{SEASON_STR}\"],[\"PLAYER\",\"@{PLAYER}\"],[\"PTS_avg\",\"@{PTS_avg}\"],[\"PTS_season_norm\",\"@{PTS_season_norm}\"],[\"PTS_game_norm\",\"@{PTS_game_norm}\"]]}},{\"type\":\"object\",\"name\":\"SaveTool\",\"id\":\"96ad3582-904c-4199-90cb-26dbf4ce3b24\"},{\"type\":\"object\",\"name\":\"PanTool\",\"id\":\"43f99dd3-9ff6-456d-b72d-fcdffd0b9d83\"},{\"type\":\"object\",\"name\":\"BoxZoomTool\",\"id\":\"82eddd94-4819-45e0-aa2c-cdd0910484c1\",\"attributes\":{\"overlay\":{\"type\":\"object\",\"name\":\"BoxAnnotation\",\"id\":\"f8a454ba-92e2-4c59-b8b3-4d784b9b0662\",\"attributes\":{\"syncable\":false,\"line_color\":\"black\",\"line_alpha\":1.0,\"line_width\":2,\"line_dash\":[4,4],\"fill_color\":\"lightgrey\",\"fill_alpha\":0.5,\"level\":\"overlay\",\"visible\":false,\"left\":{\"type\":\"number\",\"value\":\"nan\"},\"right\":{\"type\":\"number\",\"value\":\"nan\"},\"top\":{\"type\":\"number\",\"value\":\"nan\"},\"bottom\":{\"type\":\"number\",\"value\":\"nan\"},\"left_units\":\"canvas\",\"right_units\":\"canvas\",\"top_units\":\"canvas\",\"bottom_units\":\"canvas\",\"handles\":{\"type\":\"object\",\"name\":\"BoxInteractionHandles\",\"id\":\"b485e17b-2610-4f4d-b36b-debf5f416ac3\",\"attributes\":{\"all\":{\"type\":\"object\",\"name\":\"AreaVisuals\",\"id\":\"4d53d72d-814a-4ddd-978d-10bec123c476\",\"attributes\":{\"fill_color\":\"white\",\"hover_fill_color\":\"lightgray\"}}}}}}}},{\"type\":\"object\",\"name\":\"ResetTool\",\"id\":\"d6723217-c537-4b69-803b-b8514b02983a\"}],\"active_drag\":{\"id\":\"43f99dd3-9ff6-456d-b72d-fcdffd0b9d83\"},\"active_scroll\":{\"id\":\"b1515f5e-34a5-48f6-a2b4-e016d0baef12\"}}},\"left\":[{\"type\":\"object\",\"name\":\"LinearAxis\",\"id\":\"c891b046-2d76-4dfa-9750-35cf75009767\",\"attributes\":{\"ticker\":{\"type\":\"object\",\"name\":\"BasicTicker\",\"id\":\"6b144fb7-8914-403b-9a88-c648675c6b3a\",\"attributes\":{\"mantissas\":[1,2,5]}},\"formatter\":{\"type\":\"object\",\"name\":\"BasicTickFormatter\",\"id\":\"85ad3d86-2f38-41a4-b733-d8192be138da\"},\"axis_label\":\"PTS\",\"major_label_policy\":{\"type\":\"object\",\"name\":\"AllLabels\",\"id\":\"ef768f0a-f9f0-4d76-b48e-6f478afa1b97\"}}}],\"below\":[{\"type\":\"object\",\"name\":\"LinearAxis\",\"id\":\"d7056d1a-62c0-40c0-b0bd-21274e5c8965\",\"attributes\":{\"ticker\":{\"type\":\"object\",\"name\":\"BasicTicker\",\"id\":\"197abd26-f6b8-4892-b8e9-a6a21e3fe7a8\",\"attributes\":{\"mantissas\":[1,2,5]}},\"formatter\":{\"type\":\"object\",\"name\":\"BasicTickFormatter\",\"id\":\"36ff00de-9cc1-49a0-ade6-6cd6ab52fe96\"},\"axis_label\":\"SEASON\",\"major_label_policy\":{\"type\":\"object\",\"name\":\"AllLabels\",\"id\":\"41bda4b0-8a4c-43cc-9580-311393fcec7a\"}}}],\"center\":[{\"type\":\"object\",\"name\":\"Grid\",\"id\":\"3fb35651-eedd-4e27-9258-0ce2b9ff7bd8\",\"attributes\":{\"axis\":{\"id\":\"d7056d1a-62c0-40c0-b0bd-21274e5c8965\"},\"grid_line_color\":null}},{\"type\":\"object\",\"name\":\"Grid\",\"id\":\"493f5b6d-24df-45a6-a83d-9f892129ccac\",\"attributes\":{\"dimension\":1,\"axis\":{\"id\":\"c891b046-2d76-4dfa-9750-35cf75009767\"},\"grid_line_color\":null}}],\"min_border_top\":10,\"min_border_bottom\":10,\"min_border_left\":10,\"min_border_right\":10,\"output_backend\":\"webgl\"}},{\"type\":\"object\",\"name\":\"Spacer\",\"id\":\"d1bda000-272b-4761-8764-07899e840517\",\"attributes\":{\"name\":\"HSpacer03982\",\"stylesheets\":[\"\\n:host(.pn-loading):before, .pn-loading:before {\\n  background-color: #c3c3c3;\\n  mask-size: auto calc(min(50%, 400px));\\n  -webkit-mask-size: auto calc(min(50%, 400px));\\n}\",{\"id\":\"444afe2f-6247-407a-8b64-f26014c770e6\"},{\"id\":\"35c18f40-ccb3-4bda-8540-ce2ce8cc9e6a\"},{\"id\":\"a308478d-913c-40d1-beff-0bc2d963a6ee\"}],\"margin\":0,\"sizing_mode\":\"stretch_width\",\"align\":\"start\"}}]}}],\"defs\":[{\"type\":\"model\",\"name\":\"ReactiveHTML1\"},{\"type\":\"model\",\"name\":\"FlexBox1\",\"properties\":[{\"name\":\"align_content\",\"kind\":\"Any\",\"default\":\"flex-start\"},{\"name\":\"align_items\",\"kind\":\"Any\",\"default\":\"flex-start\"},{\"name\":\"flex_direction\",\"kind\":\"Any\",\"default\":\"row\"},{\"name\":\"flex_wrap\",\"kind\":\"Any\",\"default\":\"wrap\"},{\"name\":\"gap\",\"kind\":\"Any\",\"default\":\"\"},{\"name\":\"justify_content\",\"kind\":\"Any\",\"default\":\"flex-start\"}]},{\"type\":\"model\",\"name\":\"FloatPanel1\",\"properties\":[{\"name\":\"config\",\"kind\":\"Any\",\"default\":{\"type\":\"map\"}},{\"name\":\"contained\",\"kind\":\"Any\",\"default\":true},{\"name\":\"position\",\"kind\":\"Any\",\"default\":\"right-top\"},{\"name\":\"offsetx\",\"kind\":\"Any\",\"default\":null},{\"name\":\"offsety\",\"kind\":\"Any\",\"default\":null},{\"name\":\"theme\",\"kind\":\"Any\",\"default\":\"primary\"},{\"name\":\"status\",\"kind\":\"Any\",\"default\":\"normalized\"}]},{\"type\":\"model\",\"name\":\"GridStack1\",\"properties\":[{\"name\":\"mode\",\"kind\":\"Any\",\"default\":\"warn\"},{\"name\":\"ncols\",\"kind\":\"Any\",\"default\":null},{\"name\":\"nrows\",\"kind\":\"Any\",\"default\":null},{\"name\":\"allow_resize\",\"kind\":\"Any\",\"default\":true},{\"name\":\"allow_drag\",\"kind\":\"Any\",\"default\":true},{\"name\":\"state\",\"kind\":\"Any\",\"default\":[]}]},{\"type\":\"model\",\"name\":\"drag1\",\"properties\":[{\"name\":\"slider_width\",\"kind\":\"Any\",\"default\":5},{\"name\":\"slider_color\",\"kind\":\"Any\",\"default\":\"black\"},{\"name\":\"value\",\"kind\":\"Any\",\"default\":50}]},{\"type\":\"model\",\"name\":\"click1\",\"properties\":[{\"name\":\"terminal_output\",\"kind\":\"Any\",\"default\":\"\"},{\"name\":\"debug_name\",\"kind\":\"Any\",\"default\":\"\"},{\"name\":\"clears\",\"kind\":\"Any\",\"default\":0}]},{\"type\":\"model\",\"name\":\"FastWrapper1\",\"properties\":[{\"name\":\"object\",\"kind\":\"Any\",\"default\":null},{\"name\":\"style\",\"kind\":\"Any\",\"default\":null}]},{\"type\":\"model\",\"name\":\"NotificationAreaBase1\",\"properties\":[{\"name\":\"js_events\",\"kind\":\"Any\",\"default\":{\"type\":\"map\"}},{\"name\":\"position\",\"kind\":\"Any\",\"default\":\"bottom-right\"},{\"name\":\"_clear\",\"kind\":\"Any\",\"default\":0}]},{\"type\":\"model\",\"name\":\"NotificationArea1\",\"properties\":[{\"name\":\"js_events\",\"kind\":\"Any\",\"default\":{\"type\":\"map\"}},{\"name\":\"notifications\",\"kind\":\"Any\",\"default\":[]},{\"name\":\"position\",\"kind\":\"Any\",\"default\":\"bottom-right\"},{\"name\":\"_clear\",\"kind\":\"Any\",\"default\":0},{\"name\":\"types\",\"kind\":\"Any\",\"default\":[{\"type\":\"map\",\"entries\":[[\"type\",\"warning\"],[\"background\",\"#ffc107\"],[\"icon\",{\"type\":\"map\",\"entries\":[[\"className\",\"fas fa-exclamation-triangle\"],[\"tagName\",\"i\"],[\"color\",\"white\"]]}]]},{\"type\":\"map\",\"entries\":[[\"type\",\"info\"],[\"background\",\"#007bff\"],[\"icon\",{\"type\":\"map\",\"entries\":[[\"className\",\"fas fa-info-circle\"],[\"tagName\",\"i\"],[\"color\",\"white\"]]}]]}]}]},{\"type\":\"model\",\"name\":\"Notification\",\"properties\":[{\"name\":\"background\",\"kind\":\"Any\",\"default\":null},{\"name\":\"duration\",\"kind\":\"Any\",\"default\":3000},{\"name\":\"icon\",\"kind\":\"Any\",\"default\":null},{\"name\":\"message\",\"kind\":\"Any\",\"default\":\"\"},{\"name\":\"notification_type\",\"kind\":\"Any\",\"default\":null},{\"name\":\"_rendered\",\"kind\":\"Any\",\"default\":false},{\"name\":\"_destroyed\",\"kind\":\"Any\",\"default\":false}]},{\"type\":\"model\",\"name\":\"TemplateActions1\",\"properties\":[{\"name\":\"open_modal\",\"kind\":\"Any\",\"default\":0},{\"name\":\"close_modal\",\"kind\":\"Any\",\"default\":0}]},{\"type\":\"model\",\"name\":\"BootstrapTemplateActions1\",\"properties\":[{\"name\":\"open_modal\",\"kind\":\"Any\",\"default\":0},{\"name\":\"close_modal\",\"kind\":\"Any\",\"default\":0}]},{\"type\":\"model\",\"name\":\"TemplateEditor1\",\"properties\":[{\"name\":\"layout\",\"kind\":\"Any\",\"default\":[]}]},{\"type\":\"model\",\"name\":\"MaterialTemplateActions1\",\"properties\":[{\"name\":\"open_modal\",\"kind\":\"Any\",\"default\":0},{\"name\":\"close_modal\",\"kind\":\"Any\",\"default\":0}]},{\"type\":\"model\",\"name\":\"ReactiveESM1\",\"properties\":[{\"name\":\"esm_constants\",\"kind\":\"Any\",\"default\":{\"type\":\"map\"}}]},{\"type\":\"model\",\"name\":\"JSComponent1\",\"properties\":[{\"name\":\"esm_constants\",\"kind\":\"Any\",\"default\":{\"type\":\"map\"}}]},{\"type\":\"model\",\"name\":\"ReactComponent1\",\"properties\":[{\"name\":\"esm_constants\",\"kind\":\"Any\",\"default\":{\"type\":\"map\"}}]},{\"type\":\"model\",\"name\":\"AnyWidgetComponent1\",\"properties\":[{\"name\":\"esm_constants\",\"kind\":\"Any\",\"default\":{\"type\":\"map\"}}]},{\"type\":\"model\",\"name\":\"request_value1\",\"properties\":[{\"name\":\"fill\",\"kind\":\"Any\",\"default\":\"none\"},{\"name\":\"_synced\",\"kind\":\"Any\",\"default\":null},{\"name\":\"_request_sync\",\"kind\":\"Any\",\"default\":0}]}]}};\n",
       "  var render_items = [{\"docid\":\"5dff6a9e-b024-45d9-a8eb-8000c0c325d4\",\"roots\":{\"7fd88baf-5229-476e-86f5-d434f9efe820\":\"b8cec23b-80e1-49f2-b54f-b0699b053583\"},\"root_ids\":[\"7fd88baf-5229-476e-86f5-d434f9efe820\"]}];\n",
       "  var docs = Object.values(docs_json)\n",
       "  if (!docs) {\n",
       "    return\n",
       "  }\n",
       "  const py_version = docs[0].version.replace('rc', '-rc.').replace('.dev', '-dev.')\n",
       "  async function embed_document(root) {\n",
       "    var Bokeh = get_bokeh(root)\n",
       "    await Bokeh.embed.embed_items_notebook(docs_json, render_items);\n",
       "    for (const render_item of render_items) {\n",
       "      for (const root_id of render_item.root_ids) {\n",
       "\tconst id_el = document.getElementById(root_id)\n",
       "\tif (id_el.children.length && id_el.children[0].hasAttribute('data-root-id')) {\n",
       "\t  const root_el = id_el.children[0]\n",
       "\t  root_el.id = root_el.id + '-rendered'\n",
       "\t  for (const child of root_el.children) {\n",
       "            // Ensure JupyterLab does not capture keyboard shortcuts\n",
       "            // see: https://jupyterlab.readthedocs.io/en/4.1.x/extension/notebook.html#keyboard-interaction-model\n",
       "\t    child.setAttribute('data-lm-suppress-shortcuts', 'true')\n",
       "\t  }\n",
       "\t}\n",
       "      }\n",
       "    }\n",
       "  }\n",
       "  function get_bokeh(root) {\n",
       "    if (root.Bokeh === undefined) {\n",
       "      return null\n",
       "    } else if (root.Bokeh.version !== py_version) {\n",
       "      if (root.Bokeh.versions === undefined || !root.Bokeh.versions.has(py_version)) {\n",
       "\treturn null\n",
       "      }\n",
       "      return root.Bokeh.versions.get(py_version);\n",
       "    } else if (root.Bokeh.version === py_version) {\n",
       "      return root.Bokeh\n",
       "    }\n",
       "    return null\n",
       "  }\n",
       "  function is_loaded(root) {\n",
       "    var Bokeh = get_bokeh(root)\n",
       "    return (Bokeh != null && Bokeh.Panel !== undefined)\n",
       "  }\n",
       "  if (is_loaded(root)) {\n",
       "    embed_document(root);\n",
       "  } else {\n",
       "    var attempts = 0;\n",
       "    var timer = setInterval(function(root) {\n",
       "      if (is_loaded(root)) {\n",
       "        clearInterval(timer);\n",
       "        embed_document(root);\n",
       "      } else if (document.readyState == \"complete\") {\n",
       "        attempts++;\n",
       "        if (attempts > 200) {\n",
       "          clearInterval(timer);\n",
       "\t  var Bokeh = get_bokeh(root)\n",
       "\t  if (Bokeh == null || Bokeh.Panel == null) {\n",
       "            console.warn(\"Panel: ERROR: Unable to run Panel code because Bokeh or Panel library is missing\");\n",
       "\t  } else {\n",
       "\t    console.warn(\"Panel: WARNING: Attempting to render but not all required libraries could be resolved.\")\n",
       "\t    embed_document(root)\n",
       "\t  }\n",
       "        }\n",
       "      }\n",
       "    }, 25, root)\n",
       "  }\n",
       "})(window);</script>"
      ],
      "text/plain": [
       ":Overlay\n",
       "   .Curve.I  :Curve   [SEASON]   (PTS,SEASON_STR,PLAYER,PTS_avg,PTS_season_norm,PTS_game_norm)\n",
       "   .Curve.II :Curve   [SEASON]   (PTS,SEASON_STR,PLAYER,PTS_avg,PTS_season_norm,PTS_game_norm)"
      ]
     },
     "execution_count": 74,
     "metadata": {
      "application/vnd.holoviews_exec.v0+json": {
       "id": "7fd88baf-5229-476e-86f5-d434f9efe820"
      }
     },
     "output_type": "execute_result"
    }
   ],
   "source": [
    "(\n",
    "    scoring_title_total.set_index('SEASON')[['SEASON_STR', 'PLAYER', 'PTS', 'PTS_avg', 'PTS_season_norm', 'PTS_game_norm']].hvplot.line(y='PTS', hover_cols=['SEASON_STR', 'PLAYER', 'PTS', 'PTS_avg', 'PTS_season_norm', 'PTS_game_norm'])\n",
    "    * scoring_title_avg.set_index('SEASON')[['SEASON_STR', 'PLAYER', 'PTS', 'PTS_avg', 'PTS_season_norm', 'PTS_game_norm']].hvplot.line(y='PTS', hover_cols=['SEASON_STR', 'PLAYER', 'PTS', 'PTS_avg', 'PTS_season_norm', 'PTS_game_norm'])\n",
    ")"
   ]
  },
  {
   "cell_type": "code",
   "execution_count": 75,
   "metadata": {},
   "outputs": [
    {
     "data": {
      "text/plain": [
       "PLAYER\n",
       "Michael Jordan         11\n",
       "Wilt Chamberlain        7\n",
       "Kevin Durant            5\n",
       "Kobe Bryant             4\n",
       "George Gervin           4\n",
       "James Harden            4\n",
       "Kareem Abdul-Jabbar     3\n",
       "Shaquille O'Neal        3\n",
       "Bob McAdoo              3\n",
       "Neil Johnston           3\n",
       "Name: PLAYER, dtype: int64"
      ]
     },
     "execution_count": 75,
     "metadata": {},
     "output_type": "execute_result"
    }
   ],
   "source": [
    "scoring_title_total.groupby('PLAYER')['PLAYER'].count().sort_values(ascending=False).head(10)"
   ]
  },
  {
   "cell_type": "code",
   "execution_count": null,
   "metadata": {},
   "outputs": [
    {
     "data": {
      "text/plain": [
       "PLAYER\n",
       "Michael Jordan         10\n",
       "Wilt Chamberlain        7\n",
       "Allen Iverson           4\n",
       "George Gervin           4\n",
       "Kevin Durant            4\n",
       "Bob McAdoo              3\n",
       "Neil Johnston           3\n",
       "James Harden            3\n",
       "Kareem Abdul-Jabbar     2\n",
       "Tracy McGrady           2\n",
       "Name: PLAYER, dtype: int64"
      ]
     },
     "execution_count": 76,
     "metadata": {},
     "output_type": "execute_result"
    }
   ],
   "source": [
    "scoring_title_avg.groupby('PLAYER')['PLAYER'].count().sort_values(ascending=False).head(10)"
   ]
  },
  {
   "cell_type": "code",
   "execution_count": 83,
   "metadata": {},
   "outputs": [
    {
     "data": {},
     "metadata": {},
     "output_type": "display_data"
    },
    {
     "data": {
      "application/vnd.holoviews_exec.v0+json": "",
      "text/html": [
       "<div id='14053c54-d0e9-48f3-b5c5-88d1708cc527'>\n",
       "  <div id=\"f71d418f-4cdd-43c1-9dd5-835ee59824a9\" data-root-id=\"14053c54-d0e9-48f3-b5c5-88d1708cc527\" style=\"display: contents;\"></div>\n",
       "</div>\n",
       "<script type=\"application/javascript\">(function(root) {\n",
       "  var docs_json = {\"6c35c665-c0d2-44fe-a2e6-8e215fd20f2c\":{\"version\":\"3.6.3\",\"title\":\"Bokeh Application\",\"roots\":[{\"type\":\"object\",\"name\":\"Row\",\"id\":\"14053c54-d0e9-48f3-b5c5-88d1708cc527\",\"attributes\":{\"name\":\"Row04180\",\"tags\":[\"embedded\"],\"stylesheets\":[\"\\n:host(.pn-loading):before, .pn-loading:before {\\n  background-color: #c3c3c3;\\n  mask-size: auto calc(min(50%, 400px));\\n  -webkit-mask-size: auto calc(min(50%, 400px));\\n}\",{\"type\":\"object\",\"name\":\"ImportedStyleSheet\",\"id\":\"60907d19-5d06-4d7a-b99e-a0d2ae370050\",\"attributes\":{\"url\":\"https://cdn.holoviz.org/panel/1.6.1/dist/css/loading.css\"}},{\"type\":\"object\",\"name\":\"ImportedStyleSheet\",\"id\":\"74574061-79e5-4dd9-971a-136e5eb944d5\",\"attributes\":{\"url\":\"https://cdn.holoviz.org/panel/1.6.1/dist/css/listpanel.css\"}},{\"type\":\"object\",\"name\":\"ImportedStyleSheet\",\"id\":\"1c779956-8879-4555-a830-8f2dc7408115\",\"attributes\":{\"url\":\"https://cdn.holoviz.org/panel/1.6.1/dist/bundled/theme/default.css\"}},{\"type\":\"object\",\"name\":\"ImportedStyleSheet\",\"id\":\"76cc7bb5-6b86-4e9f-90ca-92702a2ddb29\",\"attributes\":{\"url\":\"https://cdn.holoviz.org/panel/1.6.1/dist/bundled/theme/native.css\"}}],\"min_width\":700,\"margin\":0,\"sizing_mode\":\"stretch_width\",\"align\":\"start\",\"children\":[{\"type\":\"object\",\"name\":\"Spacer\",\"id\":\"b68a358a-962f-479d-9691-6eb2aeef9b78\",\"attributes\":{\"name\":\"HSpacer04184\",\"stylesheets\":[\"\\n:host(.pn-loading):before, .pn-loading:before {\\n  background-color: #c3c3c3;\\n  mask-size: auto calc(min(50%, 400px));\\n  -webkit-mask-size: auto calc(min(50%, 400px));\\n}\",{\"id\":\"60907d19-5d06-4d7a-b99e-a0d2ae370050\"},{\"id\":\"1c779956-8879-4555-a830-8f2dc7408115\"},{\"id\":\"76cc7bb5-6b86-4e9f-90ca-92702a2ddb29\"}],\"margin\":0,\"sizing_mode\":\"stretch_width\",\"align\":\"start\"}},{\"type\":\"object\",\"name\":\"Figure\",\"id\":\"4ee71c9f-31bf-4c56-84c8-36704e5a5595\",\"attributes\":{\"width\":700,\"height\":300,\"margin\":[5,10],\"sizing_mode\":\"fixed\",\"align\":\"start\",\"x_range\":{\"type\":\"object\",\"name\":\"Range1d\",\"id\":\"7ef84b48-aadc-45de-b4af-f3947cdea4e1\",\"attributes\":{\"name\":\"SEASON\",\"tags\":[[[\"SEASON\",null]],[]],\"start\":1951.0,\"end\":2024.0,\"reset_start\":1951.0,\"reset_end\":2024.0}},\"y_range\":{\"type\":\"object\",\"name\":\"Range1d\",\"id\":\"ae6df987-546c-4157-9529-80d15ee36cf3\",\"attributes\":{\"name\":\"GP\",\"tags\":[[[\"GP\",null]],{\"type\":\"map\",\"entries\":[[\"invert_yaxis\",false],[\"autorange\",false]]}],\"start\":45.07,\"end\":88.63,\"reset_start\":45.07,\"reset_end\":88.63}},\"x_scale\":{\"type\":\"object\",\"name\":\"LinearScale\",\"id\":\"6f7e2b78-8452-4575-9e00-40c48d306deb\"},\"y_scale\":{\"type\":\"object\",\"name\":\"LinearScale\",\"id\":\"4bbaf68a-d9e3-4378-88c0-4978b0a9eeb8\"},\"title\":{\"type\":\"object\",\"name\":\"Title\",\"id\":\"27afb342-e5f3-461f-8d11-920375e1bbbd\",\"attributes\":{\"text\":\"GP\",\"text_color\":\"black\",\"text_font_size\":\"12pt\"}},\"renderers\":[{\"type\":\"object\",\"name\":\"GlyphRenderer\",\"id\":\"0699b05c-e868-4d87-8ad4-4aaf6d5ade0a\",\"attributes\":{\"name\":\"GP\",\"data_source\":{\"type\":\"object\",\"name\":\"ColumnDataSource\",\"id\":\"a3490f3f-2484-4981-ac12-9bb2bf43c2b0\",\"attributes\":{\"selected\":{\"type\":\"object\",\"name\":\"Selection\",\"id\":\"b74330a5-7fa9-4acc-98e1-e0414ab760d4\",\"attributes\":{\"indices\":[],\"line_indices\":[]}},\"selection_policy\":{\"type\":\"object\",\"name\":\"UnionRenderers\",\"id\":\"4d23f588-0930-4bc0-9998-e3ea66542f3c\"},\"data\":{\"type\":\"map\",\"entries\":[[\"SEASON\",{\"type\":\"ndarray\",\"array\":{\"type\":\"bytes\",\"data\":\"nwcAAKAHAAChBwAAogcAAKMHAACkBwAApQcAAKYHAACnBwAAqAcAAKkHAACqBwAAqwcAAKwHAACtBwAArgcAAK8HAACwBwAAsQcAALIHAACzBwAAtAcAALUHAAC2BwAAtwcAALgHAAC5BwAAugcAALsHAAC8BwAAvQcAAL4HAAC/BwAAwAcAAMEHAADCBwAAwwcAAMQHAADFBwAAxgcAAMcHAADIBwAAyQcAAMoHAADLBwAAzAcAAM0HAADOBwAAzwcAANAHAADRBwAA0gcAANMHAADUBwAA1QcAANYHAADXBwAA2AcAANkHAADaBwAA2wcAANwHAADdBwAA3gcAAN8HAADgBwAA4QcAAOIHAADjBwAA5AcAAOUHAADmBwAA5wcAAOgHAAA=\"},\"shape\":[74],\"dtype\":\"int32\",\"order\":\"little\"}],[\"GP\",{\"type\":\"ndarray\",\"array\":{\"type\":\"bytes\",\"data\":\"ZmZmZmZmUEDNzMzMzGxRQJqZmZmZ+VFAAAAAAADAUUAAAAAAAMBRQJqZmZmZeVFAzczMzMxsUUDNzMzMzGxRQAAAAAAAYFJAAAAAAABAU0DNzMzMzExTQDMzMzMz01NAZmZmZmamU0DNzMzMzMxSQDMzMzMzM1NAMzMzMzPzUkCamZmZmZlTQM3MzMzMjFNAzczMzMzMU0DNzMzMzOxTQJqZmZmZuVNAmpmZmZmZU0DNzMzMzAxTQM3MzMzMbFJAmpmZmZm5UkAzMzMzM3NTQJqZmZmZGVNAMzMzMzPTU0AzMzMzM5NTQAAAAAAAgFNAmpmZmZnZU0AzMzMzMxNTQJqZmZmZuVNAAAAAAADgU0CamZmZmflSQDMzMzMzs1NAAAAAAADAU0DNzMzMzCxUQAAAAAAAQFRAmpmZmZkZU0AzMzMzM5NTQJqZmZmZuVNAZmZmZmbGUkAAAAAAAKBTQJqZmZmZeVNAAAAAAAAAVEAzMzMzMxNTQJqZmZmZWUhAZmZmZmaGU0BmZmZmZqZSQDMzMzMzE1JAZmZmZmZGU0AzMzMzM5NSQJqZmZmZOVNAmpmZmZmZU0DNzMzMzCxSQJqZmZmZ2VJAMzMzMzMTU0BmZmZmZmZSQJqZmZmZmVNAAAAAAAAAT0DNzMzMzIxSQM3MzMzMDFNAmpmZmZnZUUCamZmZmblSQGZmZmZmBlNAAAAAAABgUkCamZmZmRlSQGZmZmZmJlBAMzMzMzPzT0BmZmZmZoZRQDMzMzMzk1BAmpmZmZl5UkDNzMzMzMxNQA==\"},\"shape\":[74],\"dtype\":\"float64\",\"order\":\"little\"}]]}}},\"view\":{\"type\":\"object\",\"name\":\"CDSView\",\"id\":\"26137a22-0647-42f3-a88c-fd5c82925eca\",\"attributes\":{\"filter\":{\"type\":\"object\",\"name\":\"AllIndices\",\"id\":\"6a67b845-6923-4899-adc3-c288a9ae0583\"}}},\"glyph\":{\"type\":\"object\",\"name\":\"Line\",\"id\":\"9a111121-6eb5-4f03-bb53-fe1507cb741b\",\"attributes\":{\"tags\":[\"apply_ranges\"],\"x\":{\"type\":\"field\",\"field\":\"SEASON\"},\"y\":{\"type\":\"field\",\"field\":\"GP\"},\"line_color\":\"#30a2da\",\"line_width\":2}},\"selection_glyph\":{\"type\":\"object\",\"name\":\"Line\",\"id\":\"ec819f02-2fe1-4662-b709-1488f016c7ac\",\"attributes\":{\"tags\":[\"apply_ranges\"],\"x\":{\"type\":\"field\",\"field\":\"SEASON\"},\"y\":{\"type\":\"field\",\"field\":\"GP\"},\"line_color\":\"#30a2da\",\"line_width\":2}},\"nonselection_glyph\":{\"type\":\"object\",\"name\":\"Line\",\"id\":\"14f94c31-4a64-46a6-b3f7-7119c3d424b3\",\"attributes\":{\"tags\":[\"apply_ranges\"],\"x\":{\"type\":\"field\",\"field\":\"SEASON\"},\"y\":{\"type\":\"field\",\"field\":\"GP\"},\"line_color\":\"#30a2da\",\"line_alpha\":0.1,\"line_width\":2}},\"muted_glyph\":{\"type\":\"object\",\"name\":\"Line\",\"id\":\"c2719f2a-8d61-4ecf-888f-9b0c29ee1196\",\"attributes\":{\"tags\":[\"apply_ranges\"],\"x\":{\"type\":\"field\",\"field\":\"SEASON\"},\"y\":{\"type\":\"field\",\"field\":\"GP\"},\"line_color\":\"#30a2da\",\"line_alpha\":0.2,\"line_width\":2}}}},{\"type\":\"object\",\"name\":\"GlyphRenderer\",\"id\":\"21bb3979-f8c4-4f5f-a8bc-d3cc01a870e7\",\"attributes\":{\"name\":\"GP\",\"data_source\":{\"type\":\"object\",\"name\":\"ColumnDataSource\",\"id\":\"eda3c9a0-e252-4aeb-8e5c-1ea2ff4d7d82\",\"attributes\":{\"selected\":{\"type\":\"object\",\"name\":\"Selection\",\"id\":\"072310f3-6c99-463a-8c01-fcd2cf829160\",\"attributes\":{\"indices\":[],\"line_indices\":[]}},\"selection_policy\":{\"type\":\"object\",\"name\":\"UnionRenderers\",\"id\":\"87e41257-8331-4aa5-9396-13c1b60fb010\"},\"data\":{\"type\":\"map\",\"entries\":[[\"SEASON\",{\"type\":\"ndarray\",\"array\":{\"type\":\"bytes\",\"data\":\"nwcAAKAHAAChBwAAogcAAKMHAACkBwAApQcAAKYHAACnBwAAqAcAAKkHAACqBwAAqwcAAKwHAACtBwAArgcAAK8HAACwBwAAsQcAALIHAACzBwAAtAcAALUHAAC2BwAAtwcAALgHAAC5BwAAugcAALsHAAC8BwAAvQcAAL4HAAC/BwAAwAcAAMEHAADCBwAAwwcAAMQHAADFBwAAxgcAAMcHAADIBwAAyQcAAMoHAADLBwAAzAcAAM0HAADOBwAAzwcAANAHAADRBwAA0gcAANMHAADUBwAA1QcAANYHAADXBwAA2AcAANkHAADaBwAA2wcAANwHAADdBwAA3gcAAN8HAADgBwAA4QcAAOIHAADjBwAA5AcAAOUHAADmBwAA5wcAAOgHAAA=\"},\"shape\":[74],\"dtype\":\"int32\",\"order\":\"little\"}],[\"GP\",{\"type\":\"ndarray\",\"array\":{\"type\":\"bytes\",\"data\":\"QgAAAEgAAABLAAAASgAAAEsAAABIAAAASAAAAEgAAABNAAAATwAAAFAAAABQAAAAUAAAAFAAAABQAAAAUQAAAFIAAABSAAAAUgAAAFIAAABSAAAAUgAAAFIAAABSAAAAUgAAAFIAAABTAAAAUgAAAFIAAABSAAAAUwAAAFMAAABSAAAAUgAAAFMAAABSAAAAVAAAAFIAAABSAAAAUgAAAFQAAABTAAAAUgAAAFIAAABTAAAAUwAAAFIAAAAyAAAAVQAAAFMAAABTAAAAUwAAAFUAAABUAAAAUgAAAFIAAABSAAAAUgAAAFIAAABTAAAAQgAAAFIAAABTAAAAUwAAAFIAAABSAAAAUgAAAFIAAABKAAAASAAAAFIAAABTAAAAVAAAAEEAAAA=\"},\"shape\":[74],\"dtype\":\"int32\",\"order\":\"little\"}]]}}},\"view\":{\"type\":\"object\",\"name\":\"CDSView\",\"id\":\"bc5c8beb-f51a-4201-bd48-74f24ba84e49\",\"attributes\":{\"filter\":{\"type\":\"object\",\"name\":\"AllIndices\",\"id\":\"6db0bb96-28e7-41b3-b8c4-aff07819d306\"}}},\"glyph\":{\"type\":\"object\",\"name\":\"Line\",\"id\":\"5c460e9f-39cf-4d2f-af29-8407b337e20d\",\"attributes\":{\"tags\":[\"apply_ranges\"],\"x\":{\"type\":\"field\",\"field\":\"SEASON\"},\"y\":{\"type\":\"field\",\"field\":\"GP\"},\"line_color\":\"#fc4f30\",\"line_width\":2}},\"selection_glyph\":{\"type\":\"object\",\"name\":\"Line\",\"id\":\"6c28c02a-cd8d-4687-b683-e47bae3abb30\",\"attributes\":{\"tags\":[\"apply_ranges\"],\"x\":{\"type\":\"field\",\"field\":\"SEASON\"},\"y\":{\"type\":\"field\",\"field\":\"GP\"},\"line_color\":\"#fc4f30\",\"line_width\":2}},\"nonselection_glyph\":{\"type\":\"object\",\"name\":\"Line\",\"id\":\"bfa1432e-7ea7-4993-8a08-54f2609883f3\",\"attributes\":{\"tags\":[\"apply_ranges\"],\"x\":{\"type\":\"field\",\"field\":\"SEASON\"},\"y\":{\"type\":\"field\",\"field\":\"GP\"},\"line_color\":\"#fc4f30\",\"line_alpha\":0.1,\"line_width\":2}},\"muted_glyph\":{\"type\":\"object\",\"name\":\"Line\",\"id\":\"2bdfc500-dfd4-4e52-9c4b-25389194fd7d\",\"attributes\":{\"tags\":[\"apply_ranges\"],\"x\":{\"type\":\"field\",\"field\":\"SEASON\"},\"y\":{\"type\":\"field\",\"field\":\"GP\"},\"line_color\":\"#fc4f30\",\"line_alpha\":0.2,\"line_width\":2}}}}],\"toolbar\":{\"type\":\"object\",\"name\":\"Toolbar\",\"id\":\"ffae00cc-c273-49dc-bd0c-dc8048e5c359\",\"attributes\":{\"tools\":[{\"type\":\"object\",\"name\":\"WheelZoomTool\",\"id\":\"a8c0a187-4fef-42f0-857e-f2951e9c0cfb\",\"attributes\":{\"tags\":[\"hv_created\"],\"renderers\":\"auto\",\"zoom_together\":\"none\"}},{\"type\":\"object\",\"name\":\"HoverTool\",\"id\":\"de858427-c4b2-4c0e-aa1c-380b8debaf75\",\"attributes\":{\"tags\":[\"hv_created\"],\"renderers\":[{\"id\":\"0699b05c-e868-4d87-8ad4-4aaf6d5ade0a\"},{\"id\":\"21bb3979-f8c4-4f5f-a8bc-d3cc01a870e7\"}],\"tooltips\":[[\"SEASON\",\"@{SEASON}\"],[\"GP\",\"@{GP}\"]]}},{\"type\":\"object\",\"name\":\"SaveTool\",\"id\":\"1be76731-332f-4aa8-8f3f-4c49dc8fc8d3\"},{\"type\":\"object\",\"name\":\"PanTool\",\"id\":\"c6c82af7-1dc6-4f3b-beb8-f11b7be2bf40\"},{\"type\":\"object\",\"name\":\"BoxZoomTool\",\"id\":\"fa3f614b-63fb-4ac7-b695-32de9de58192\",\"attributes\":{\"overlay\":{\"type\":\"object\",\"name\":\"BoxAnnotation\",\"id\":\"09ae9a38-9d25-4394-a4e9-91f77542fa22\",\"attributes\":{\"syncable\":false,\"line_color\":\"black\",\"line_alpha\":1.0,\"line_width\":2,\"line_dash\":[4,4],\"fill_color\":\"lightgrey\",\"fill_alpha\":0.5,\"level\":\"overlay\",\"visible\":false,\"left\":{\"type\":\"number\",\"value\":\"nan\"},\"right\":{\"type\":\"number\",\"value\":\"nan\"},\"top\":{\"type\":\"number\",\"value\":\"nan\"},\"bottom\":{\"type\":\"number\",\"value\":\"nan\"},\"left_units\":\"canvas\",\"right_units\":\"canvas\",\"top_units\":\"canvas\",\"bottom_units\":\"canvas\",\"handles\":{\"type\":\"object\",\"name\":\"BoxInteractionHandles\",\"id\":\"461b0d1e-6ac6-4ad0-bdc0-fd1ae9ae35aa\",\"attributes\":{\"all\":{\"type\":\"object\",\"name\":\"AreaVisuals\",\"id\":\"e40fad38-e561-44f0-91d2-5925d76098b7\",\"attributes\":{\"fill_color\":\"white\",\"hover_fill_color\":\"lightgray\"}}}}}}}},{\"type\":\"object\",\"name\":\"ResetTool\",\"id\":\"c2cac2a3-adf1-427f-bcb1-a90c24695a6d\"}],\"active_drag\":{\"id\":\"c6c82af7-1dc6-4f3b-beb8-f11b7be2bf40\"},\"active_scroll\":{\"id\":\"a8c0a187-4fef-42f0-857e-f2951e9c0cfb\"}}},\"left\":[{\"type\":\"object\",\"name\":\"LinearAxis\",\"id\":\"13f4b720-05b5-4def-b2dc-3256c80d18a3\",\"attributes\":{\"ticker\":{\"type\":\"object\",\"name\":\"BasicTicker\",\"id\":\"ffda7752-6aa9-403c-bf6f-1c24e265c386\",\"attributes\":{\"mantissas\":[1,2,5]}},\"formatter\":{\"type\":\"object\",\"name\":\"BasicTickFormatter\",\"id\":\"3fd362e6-9fd1-40cf-a118-bcfc1375cef6\"},\"axis_label\":\"\",\"major_label_policy\":{\"type\":\"object\",\"name\":\"AllLabels\",\"id\":\"657e77de-70e9-4707-a573-94441686cea5\"}}}],\"below\":[{\"type\":\"object\",\"name\":\"LinearAxis\",\"id\":\"8726da01-142d-456a-bf7f-02b7c272a114\",\"attributes\":{\"ticker\":{\"type\":\"object\",\"name\":\"BasicTicker\",\"id\":\"432ca6bb-7466-47c8-8e68-9a4545e53367\",\"attributes\":{\"mantissas\":[1,2,5]}},\"formatter\":{\"type\":\"object\",\"name\":\"BasicTickFormatter\",\"id\":\"7c2c6f1d-ea19-450f-9e7a-8eb18d4b45d9\"},\"axis_label\":\"SEASON\",\"major_label_policy\":{\"type\":\"object\",\"name\":\"AllLabels\",\"id\":\"a0064690-e325-40fa-94ab-8d43ce741d82\"}}}],\"center\":[{\"type\":\"object\",\"name\":\"Grid\",\"id\":\"3c825b43-f8ff-4dd8-884a-46ebaa7d67dd\",\"attributes\":{\"axis\":{\"id\":\"8726da01-142d-456a-bf7f-02b7c272a114\"},\"grid_line_color\":null}},{\"type\":\"object\",\"name\":\"Grid\",\"id\":\"2b9469ac-d4a3-4eec-a888-69fcd78337c0\",\"attributes\":{\"dimension\":1,\"axis\":{\"id\":\"13f4b720-05b5-4def-b2dc-3256c80d18a3\"},\"grid_line_color\":null}},{\"type\":\"object\",\"name\":\"Legend\",\"id\":\"936edb28-a1d5-47c7-b731-3862c9940c2f\",\"attributes\":{\"click_policy\":\"mute\",\"items\":[{\"type\":\"object\",\"name\":\"LegendItem\",\"id\":\"6ae72c72-8d9a-45ca-bd71-e8185c411ff8\",\"attributes\":{\"label\":{\"type\":\"value\",\"value\":\"GP\"},\"renderers\":[{\"id\":\"0699b05c-e868-4d87-8ad4-4aaf6d5ade0a\"},{\"id\":\"21bb3979-f8c4-4f5f-a8bc-d3cc01a870e7\"}]}}]}}],\"min_border_top\":10,\"min_border_bottom\":10,\"min_border_left\":10,\"min_border_right\":10,\"output_backend\":\"webgl\"}},{\"type\":\"object\",\"name\":\"Spacer\",\"id\":\"02192eb2-1815-49ee-95df-46aaf1645053\",\"attributes\":{\"name\":\"HSpacer04185\",\"stylesheets\":[\"\\n:host(.pn-loading):before, .pn-loading:before {\\n  background-color: #c3c3c3;\\n  mask-size: auto calc(min(50%, 400px));\\n  -webkit-mask-size: auto calc(min(50%, 400px));\\n}\",{\"id\":\"60907d19-5d06-4d7a-b99e-a0d2ae370050\"},{\"id\":\"1c779956-8879-4555-a830-8f2dc7408115\"},{\"id\":\"76cc7bb5-6b86-4e9f-90ca-92702a2ddb29\"}],\"margin\":0,\"sizing_mode\":\"stretch_width\",\"align\":\"start\"}}]}}],\"defs\":[{\"type\":\"model\",\"name\":\"ReactiveHTML1\"},{\"type\":\"model\",\"name\":\"FlexBox1\",\"properties\":[{\"name\":\"align_content\",\"kind\":\"Any\",\"default\":\"flex-start\"},{\"name\":\"align_items\",\"kind\":\"Any\",\"default\":\"flex-start\"},{\"name\":\"flex_direction\",\"kind\":\"Any\",\"default\":\"row\"},{\"name\":\"flex_wrap\",\"kind\":\"Any\",\"default\":\"wrap\"},{\"name\":\"gap\",\"kind\":\"Any\",\"default\":\"\"},{\"name\":\"justify_content\",\"kind\":\"Any\",\"default\":\"flex-start\"}]},{\"type\":\"model\",\"name\":\"FloatPanel1\",\"properties\":[{\"name\":\"config\",\"kind\":\"Any\",\"default\":{\"type\":\"map\"}},{\"name\":\"contained\",\"kind\":\"Any\",\"default\":true},{\"name\":\"position\",\"kind\":\"Any\",\"default\":\"right-top\"},{\"name\":\"offsetx\",\"kind\":\"Any\",\"default\":null},{\"name\":\"offsety\",\"kind\":\"Any\",\"default\":null},{\"name\":\"theme\",\"kind\":\"Any\",\"default\":\"primary\"},{\"name\":\"status\",\"kind\":\"Any\",\"default\":\"normalized\"}]},{\"type\":\"model\",\"name\":\"GridStack1\",\"properties\":[{\"name\":\"mode\",\"kind\":\"Any\",\"default\":\"warn\"},{\"name\":\"ncols\",\"kind\":\"Any\",\"default\":null},{\"name\":\"nrows\",\"kind\":\"Any\",\"default\":null},{\"name\":\"allow_resize\",\"kind\":\"Any\",\"default\":true},{\"name\":\"allow_drag\",\"kind\":\"Any\",\"default\":true},{\"name\":\"state\",\"kind\":\"Any\",\"default\":[]}]},{\"type\":\"model\",\"name\":\"drag1\",\"properties\":[{\"name\":\"slider_width\",\"kind\":\"Any\",\"default\":5},{\"name\":\"slider_color\",\"kind\":\"Any\",\"default\":\"black\"},{\"name\":\"value\",\"kind\":\"Any\",\"default\":50}]},{\"type\":\"model\",\"name\":\"click1\",\"properties\":[{\"name\":\"terminal_output\",\"kind\":\"Any\",\"default\":\"\"},{\"name\":\"debug_name\",\"kind\":\"Any\",\"default\":\"\"},{\"name\":\"clears\",\"kind\":\"Any\",\"default\":0}]},{\"type\":\"model\",\"name\":\"FastWrapper1\",\"properties\":[{\"name\":\"object\",\"kind\":\"Any\",\"default\":null},{\"name\":\"style\",\"kind\":\"Any\",\"default\":null}]},{\"type\":\"model\",\"name\":\"NotificationAreaBase1\",\"properties\":[{\"name\":\"js_events\",\"kind\":\"Any\",\"default\":{\"type\":\"map\"}},{\"name\":\"position\",\"kind\":\"Any\",\"default\":\"bottom-right\"},{\"name\":\"_clear\",\"kind\":\"Any\",\"default\":0}]},{\"type\":\"model\",\"name\":\"NotificationArea1\",\"properties\":[{\"name\":\"js_events\",\"kind\":\"Any\",\"default\":{\"type\":\"map\"}},{\"name\":\"notifications\",\"kind\":\"Any\",\"default\":[]},{\"name\":\"position\",\"kind\":\"Any\",\"default\":\"bottom-right\"},{\"name\":\"_clear\",\"kind\":\"Any\",\"default\":0},{\"name\":\"types\",\"kind\":\"Any\",\"default\":[{\"type\":\"map\",\"entries\":[[\"type\",\"warning\"],[\"background\",\"#ffc107\"],[\"icon\",{\"type\":\"map\",\"entries\":[[\"className\",\"fas fa-exclamation-triangle\"],[\"tagName\",\"i\"],[\"color\",\"white\"]]}]]},{\"type\":\"map\",\"entries\":[[\"type\",\"info\"],[\"background\",\"#007bff\"],[\"icon\",{\"type\":\"map\",\"entries\":[[\"className\",\"fas fa-info-circle\"],[\"tagName\",\"i\"],[\"color\",\"white\"]]}]]}]}]},{\"type\":\"model\",\"name\":\"Notification\",\"properties\":[{\"name\":\"background\",\"kind\":\"Any\",\"default\":null},{\"name\":\"duration\",\"kind\":\"Any\",\"default\":3000},{\"name\":\"icon\",\"kind\":\"Any\",\"default\":null},{\"name\":\"message\",\"kind\":\"Any\",\"default\":\"\"},{\"name\":\"notification_type\",\"kind\":\"Any\",\"default\":null},{\"name\":\"_rendered\",\"kind\":\"Any\",\"default\":false},{\"name\":\"_destroyed\",\"kind\":\"Any\",\"default\":false}]},{\"type\":\"model\",\"name\":\"TemplateActions1\",\"properties\":[{\"name\":\"open_modal\",\"kind\":\"Any\",\"default\":0},{\"name\":\"close_modal\",\"kind\":\"Any\",\"default\":0}]},{\"type\":\"model\",\"name\":\"BootstrapTemplateActions1\",\"properties\":[{\"name\":\"open_modal\",\"kind\":\"Any\",\"default\":0},{\"name\":\"close_modal\",\"kind\":\"Any\",\"default\":0}]},{\"type\":\"model\",\"name\":\"TemplateEditor1\",\"properties\":[{\"name\":\"layout\",\"kind\":\"Any\",\"default\":[]}]},{\"type\":\"model\",\"name\":\"MaterialTemplateActions1\",\"properties\":[{\"name\":\"open_modal\",\"kind\":\"Any\",\"default\":0},{\"name\":\"close_modal\",\"kind\":\"Any\",\"default\":0}]},{\"type\":\"model\",\"name\":\"ReactiveESM1\",\"properties\":[{\"name\":\"esm_constants\",\"kind\":\"Any\",\"default\":{\"type\":\"map\"}}]},{\"type\":\"model\",\"name\":\"JSComponent1\",\"properties\":[{\"name\":\"esm_constants\",\"kind\":\"Any\",\"default\":{\"type\":\"map\"}}]},{\"type\":\"model\",\"name\":\"ReactComponent1\",\"properties\":[{\"name\":\"esm_constants\",\"kind\":\"Any\",\"default\":{\"type\":\"map\"}}]},{\"type\":\"model\",\"name\":\"AnyWidgetComponent1\",\"properties\":[{\"name\":\"esm_constants\",\"kind\":\"Any\",\"default\":{\"type\":\"map\"}}]},{\"type\":\"model\",\"name\":\"request_value1\",\"properties\":[{\"name\":\"fill\",\"kind\":\"Any\",\"default\":\"none\"},{\"name\":\"_synced\",\"kind\":\"Any\",\"default\":null},{\"name\":\"_request_sync\",\"kind\":\"Any\",\"default\":0}]}]}};\n",
       "  var render_items = [{\"docid\":\"6c35c665-c0d2-44fe-a2e6-8e215fd20f2c\",\"roots\":{\"14053c54-d0e9-48f3-b5c5-88d1708cc527\":\"f71d418f-4cdd-43c1-9dd5-835ee59824a9\"},\"root_ids\":[\"14053c54-d0e9-48f3-b5c5-88d1708cc527\"]}];\n",
       "  var docs = Object.values(docs_json)\n",
       "  if (!docs) {\n",
       "    return\n",
       "  }\n",
       "  const py_version = docs[0].version.replace('rc', '-rc.').replace('.dev', '-dev.')\n",
       "  async function embed_document(root) {\n",
       "    var Bokeh = get_bokeh(root)\n",
       "    await Bokeh.embed.embed_items_notebook(docs_json, render_items);\n",
       "    for (const render_item of render_items) {\n",
       "      for (const root_id of render_item.root_ids) {\n",
       "\tconst id_el = document.getElementById(root_id)\n",
       "\tif (id_el.children.length && id_el.children[0].hasAttribute('data-root-id')) {\n",
       "\t  const root_el = id_el.children[0]\n",
       "\t  root_el.id = root_el.id + '-rendered'\n",
       "\t  for (const child of root_el.children) {\n",
       "            // Ensure JupyterLab does not capture keyboard shortcuts\n",
       "            // see: https://jupyterlab.readthedocs.io/en/4.1.x/extension/notebook.html#keyboard-interaction-model\n",
       "\t    child.setAttribute('data-lm-suppress-shortcuts', 'true')\n",
       "\t  }\n",
       "\t}\n",
       "      }\n",
       "    }\n",
       "  }\n",
       "  function get_bokeh(root) {\n",
       "    if (root.Bokeh === undefined) {\n",
       "      return null\n",
       "    } else if (root.Bokeh.version !== py_version) {\n",
       "      if (root.Bokeh.versions === undefined || !root.Bokeh.versions.has(py_version)) {\n",
       "\treturn null\n",
       "      }\n",
       "      return root.Bokeh.versions.get(py_version);\n",
       "    } else if (root.Bokeh.version === py_version) {\n",
       "      return root.Bokeh\n",
       "    }\n",
       "    return null\n",
       "  }\n",
       "  function is_loaded(root) {\n",
       "    var Bokeh = get_bokeh(root)\n",
       "    return (Bokeh != null && Bokeh.Panel !== undefined)\n",
       "  }\n",
       "  if (is_loaded(root)) {\n",
       "    embed_document(root);\n",
       "  } else {\n",
       "    var attempts = 0;\n",
       "    var timer = setInterval(function(root) {\n",
       "      if (is_loaded(root)) {\n",
       "        clearInterval(timer);\n",
       "        embed_document(root);\n",
       "      } else if (document.readyState == \"complete\") {\n",
       "        attempts++;\n",
       "        if (attempts > 200) {\n",
       "          clearInterval(timer);\n",
       "\t  var Bokeh = get_bokeh(root)\n",
       "\t  if (Bokeh == null || Bokeh.Panel == null) {\n",
       "            console.warn(\"Panel: ERROR: Unable to run Panel code because Bokeh or Panel library is missing\");\n",
       "\t  } else {\n",
       "\t    console.warn(\"Panel: WARNING: Attempting to render but not all required libraries could be resolved.\")\n",
       "\t    embed_document(root)\n",
       "\t  }\n",
       "        }\n",
       "      }\n",
       "    }, 25, root)\n",
       "  }\n",
       "})(window);</script>"
      ],
      "text/plain": [
       ":Overlay\n",
       "   .Curve.GP.I  :Curve   [SEASON]   (GP)\n",
       "   .Curve.GP.II :Curve   [SEASON]   (GP)"
      ]
     },
     "execution_count": 83,
     "metadata": {
      "application/vnd.holoviews_exec.v0+json": {
       "id": "14053c54-d0e9-48f3-b5c5-88d1708cc527"
      }
     },
     "output_type": "execute_result"
    }
   ],
   "source": [
    "top_10_avg.groupby('SEASON')['GP'].mean().hvplot.line() * season_max_gp.hvplot.line()"
   ]
  },
  {
   "cell_type": "code",
   "execution_count": 85,
   "metadata": {},
   "outputs": [
    {
     "data": {},
     "metadata": {},
     "output_type": "display_data"
    },
    {
     "data": {
      "application/vnd.holoviews_exec.v0+json": "",
      "text/html": [
       "<div id='84a35684-93c1-40dd-9a18-727eb9574838'>\n",
       "  <div id=\"e58be492-7efc-4078-9004-3aac93874d3b\" data-root-id=\"84a35684-93c1-40dd-9a18-727eb9574838\" style=\"display: contents;\"></div>\n",
       "</div>\n",
       "<script type=\"application/javascript\">(function(root) {\n",
       "  var docs_json = {\"f39c527b-daf3-441a-b6f6-44582e8a97a6\":{\"version\":\"3.6.3\",\"title\":\"Bokeh Application\",\"roots\":[{\"type\":\"object\",\"name\":\"Row\",\"id\":\"84a35684-93c1-40dd-9a18-727eb9574838\",\"attributes\":{\"name\":\"Row04248\",\"tags\":[\"embedded\"],\"stylesheets\":[\"\\n:host(.pn-loading):before, .pn-loading:before {\\n  background-color: #c3c3c3;\\n  mask-size: auto calc(min(50%, 400px));\\n  -webkit-mask-size: auto calc(min(50%, 400px));\\n}\",{\"type\":\"object\",\"name\":\"ImportedStyleSheet\",\"id\":\"3b99ec33-eca4-4529-8a94-bcf05536fe24\",\"attributes\":{\"url\":\"https://cdn.holoviz.org/panel/1.6.1/dist/css/loading.css\"}},{\"type\":\"object\",\"name\":\"ImportedStyleSheet\",\"id\":\"65c90add-2d84-4d51-b779-e19c1780d3f2\",\"attributes\":{\"url\":\"https://cdn.holoviz.org/panel/1.6.1/dist/css/listpanel.css\"}},{\"type\":\"object\",\"name\":\"ImportedStyleSheet\",\"id\":\"afefbc25-7e3b-421c-b9d0-78022ed817a7\",\"attributes\":{\"url\":\"https://cdn.holoviz.org/panel/1.6.1/dist/bundled/theme/default.css\"}},{\"type\":\"object\",\"name\":\"ImportedStyleSheet\",\"id\":\"33ea4420-18fc-4bdd-a74f-d35c7698abe8\",\"attributes\":{\"url\":\"https://cdn.holoviz.org/panel/1.6.1/dist/bundled/theme/native.css\"}}],\"min_width\":700,\"margin\":0,\"sizing_mode\":\"stretch_width\",\"align\":\"start\",\"children\":[{\"type\":\"object\",\"name\":\"Spacer\",\"id\":\"f7a4fbd0-6981-4c63-b1c0-44ce88faccdf\",\"attributes\":{\"name\":\"HSpacer04252\",\"stylesheets\":[\"\\n:host(.pn-loading):before, .pn-loading:before {\\n  background-color: #c3c3c3;\\n  mask-size: auto calc(min(50%, 400px));\\n  -webkit-mask-size: auto calc(min(50%, 400px));\\n}\",{\"id\":\"3b99ec33-eca4-4529-8a94-bcf05536fe24\"},{\"id\":\"afefbc25-7e3b-421c-b9d0-78022ed817a7\"},{\"id\":\"33ea4420-18fc-4bdd-a74f-d35c7698abe8\"}],\"margin\":0,\"sizing_mode\":\"stretch_width\",\"align\":\"start\"}},{\"type\":\"object\",\"name\":\"Figure\",\"id\":\"028920fd-1716-454a-956f-f514d69a8412\",\"attributes\":{\"width\":700,\"height\":300,\"margin\":[5,10],\"sizing_mode\":\"fixed\",\"align\":\"start\",\"x_range\":{\"type\":\"object\",\"name\":\"Range1d\",\"id\":\"5bad56b4-1bf6-463d-ada2-aaa09d202c19\",\"attributes\":{\"name\":\"SEASON\",\"tags\":[[[\"SEASON\",null]],[]],\"start\":1951.0,\"end\":2024.0,\"reset_start\":1951.0,\"reset_end\":2024.0}},\"y_range\":{\"type\":\"object\",\"name\":\"Range1d\",\"id\":\"4e6947b1-1cf0-475d-853b-548d24d4b8d6\",\"attributes\":{\"name\":\"GP\",\"tags\":[[[\"GP\",null]],{\"type\":\"map\",\"entries\":[[\"invert_yaxis\",false],[\"autorange\",false]]}],\"start\":0.7792807594012413,\"end\":1.0134538152610442,\"reset_start\":0.7792807594012413,\"reset_end\":1.0134538152610442}},\"x_scale\":{\"type\":\"object\",\"name\":\"LinearScale\",\"id\":\"8dd1fafb-32cf-42d7-8866-12f56be072e3\"},\"y_scale\":{\"type\":\"object\",\"name\":\"LinearScale\",\"id\":\"3d143506-39e4-4b67-b442-d5a182b6bd79\"},\"title\":{\"type\":\"object\",\"name\":\"Title\",\"id\":\"72c6f80f-428a-4000-b6e4-ce6fcef97110\",\"attributes\":{\"text\":\"GP\",\"text_color\":\"black\",\"text_font_size\":\"12pt\"}},\"renderers\":[{\"type\":\"object\",\"name\":\"GlyphRenderer\",\"id\":\"789f758c-8c10-4ea7-8c08-07b9ad3c706f\",\"attributes\":{\"data_source\":{\"type\":\"object\",\"name\":\"ColumnDataSource\",\"id\":\"453c7881-812e-4081-a588-525b85937232\",\"attributes\":{\"selected\":{\"type\":\"object\",\"name\":\"Selection\",\"id\":\"afa3b031-738b-4af0-b2c3-bceabc91c293\",\"attributes\":{\"indices\":[],\"line_indices\":[]}},\"selection_policy\":{\"type\":\"object\",\"name\":\"UnionRenderers\",\"id\":\"f6447b47-1040-484d-bdc5-bc5651f68501\"},\"data\":{\"type\":\"map\",\"entries\":[[\"SEASON\",{\"type\":\"ndarray\",\"array\":{\"type\":\"bytes\",\"data\":\"nwcAAKAHAAChBwAAogcAAKMHAACkBwAApQcAAKYHAACnBwAAqAcAAKkHAACqBwAAqwcAAKwHAACtBwAArgcAAK8HAACwBwAAsQcAALIHAACzBwAAtAcAALUHAAC2BwAAtwcAALgHAAC5BwAAugcAALsHAAC8BwAAvQcAAL4HAAC/BwAAwAcAAMEHAADCBwAAwwcAAMQHAADFBwAAxgcAAMcHAADIBwAAyQcAAMoHAADLBwAAzAcAAM0HAADOBwAAzwcAANAHAADRBwAA0gcAANMHAADUBwAA1QcAANYHAADXBwAA2AcAANkHAADaBwAA2wcAANwHAADdBwAA3gcAAN8HAADgBwAA4QcAAOIHAADjBwAA5AcAAOUHAADmBwAA5wcAAOgHAAA=\"},\"shape\":[74],\"dtype\":\"int32\",\"order\":\"little\"}],[\"GP\",{\"type\":\"ndarray\",\"array\":{\"type\":\"bytes\",\"data\":\"zp/l/FnO7z+lT/qkT/ruP0goo7dlre4/PusGU+Sz7j9LfrHkF0vuPxIREREREe8/pU/6pE/67j+lT/qkT/ruP4wuuuiii+4/YX5Xi5sw7z/iehSuR+HuP7gehetRuO8/cD0K16Nw7z8VrkfhehTuP7gehetRuO4/zIkOBRjy7T+ZnoXpWZjuP4XuRehehO4/6V6E7kXo7j8bl6NxORrvP8vWpGxNyu4/mZ6F6VmY7j+9DcnbkLztP8P0LEzPwuw/OxWrU7E67T9cjsblaFzuP613AoSWdO0/8jYkb0Py7j+OxuVoXI7uP3A+BudjcO4/GYe7MK+c7j8X5pXTt2rtP8vWpGxNyu4/BudjcD4G7z/Fn+MRPUPtP8D+BOxPwO4/hmEYhmEY7j9+B+J3IH7vP5yPwfkYnO8/0b0I3YvQ7T9CHdRBHdTtPzGvnL5Va+4/TsXqVKxO7T+idiVqV6LuP2P/XtqiCO4/lPBGU+fX7j/G5WhcjsbtP1+6SQwCK+8/Zs0zmgBn7T84O2Ac7sLsP90mn0Ls3+s/vHL6Vq257T/4K1+SxfjrP7qUS7mUS+0/mZ6F6VmY7j9fhO5F6F7sP21NytakbO0/xuVoXI7G7T+4HI3L0bjsP0rXfUz8Oe4/ED744IMP7j/1LEzPwvTsP4NUKSPZYO0/owjODhiH6z87FatTsTrtP7I1KVuTsu0/r0TtStSu7D9C/A7E70DsP/a+JgRl7+s/ZmZmZmZm7D9bk7I1KVvrPwUILem6j+k/cQIncAIn7D9EoooQb1ftPw==\"},\"shape\":[74],\"dtype\":\"float64\",\"order\":\"little\"}]]}}},\"view\":{\"type\":\"object\",\"name\":\"CDSView\",\"id\":\"da12c983-769d-4386-926f-f7e495692696\",\"attributes\":{\"filter\":{\"type\":\"object\",\"name\":\"AllIndices\",\"id\":\"171c5e57-d2d8-4d84-a010-cba9d4422658\"}}},\"glyph\":{\"type\":\"object\",\"name\":\"Line\",\"id\":\"a659862a-537e-4383-a499-c90b58947679\",\"attributes\":{\"tags\":[\"apply_ranges\"],\"x\":{\"type\":\"field\",\"field\":\"SEASON\"},\"y\":{\"type\":\"field\",\"field\":\"GP\"},\"line_color\":\"#30a2da\",\"line_width\":2}},\"selection_glyph\":{\"type\":\"object\",\"name\":\"Line\",\"id\":\"c164743e-1799-4c66-886e-ef3dca889ab5\",\"attributes\":{\"tags\":[\"apply_ranges\"],\"x\":{\"type\":\"field\",\"field\":\"SEASON\"},\"y\":{\"type\":\"field\",\"field\":\"GP\"},\"line_color\":\"#30a2da\",\"line_width\":2}},\"nonselection_glyph\":{\"type\":\"object\",\"name\":\"Line\",\"id\":\"0596a8d8-a287-4a7b-857d-5e21072ab7aa\",\"attributes\":{\"tags\":[\"apply_ranges\"],\"x\":{\"type\":\"field\",\"field\":\"SEASON\"},\"y\":{\"type\":\"field\",\"field\":\"GP\"},\"line_color\":\"#30a2da\",\"line_alpha\":0.1,\"line_width\":2}},\"muted_glyph\":{\"type\":\"object\",\"name\":\"Line\",\"id\":\"74ec0ad7-c2ff-4897-97ec-2319da2626bc\",\"attributes\":{\"tags\":[\"apply_ranges\"],\"x\":{\"type\":\"field\",\"field\":\"SEASON\"},\"y\":{\"type\":\"field\",\"field\":\"GP\"},\"line_color\":\"#30a2da\",\"line_alpha\":0.2,\"line_width\":2}}}}],\"toolbar\":{\"type\":\"object\",\"name\":\"Toolbar\",\"id\":\"cd36f7ba-086d-4302-8eaf-d88c37554b89\",\"attributes\":{\"tools\":[{\"type\":\"object\",\"name\":\"WheelZoomTool\",\"id\":\"f215ff55-de1d-4154-8f05-1b6d316db132\",\"attributes\":{\"tags\":[\"hv_created\"],\"renderers\":\"auto\",\"zoom_together\":\"none\"}},{\"type\":\"object\",\"name\":\"HoverTool\",\"id\":\"6f563917-cff8-4e54-9315-e906cee7fd9a\",\"attributes\":{\"tags\":[\"hv_created\"],\"renderers\":[{\"id\":\"789f758c-8c10-4ea7-8c08-07b9ad3c706f\"}],\"tooltips\":[[\"SEASON\",\"@{SEASON}\"],[\"GP\",\"@{GP}\"]]}},{\"type\":\"object\",\"name\":\"SaveTool\",\"id\":\"c1c82094-9297-4d77-b306-2d9c22ae15ae\"},{\"type\":\"object\",\"name\":\"PanTool\",\"id\":\"16d5b9c2-cf5b-4806-8420-9357cf3e9a0e\"},{\"type\":\"object\",\"name\":\"BoxZoomTool\",\"id\":\"da790f19-0e44-4cd2-ac1b-cef6bbe1c76b\",\"attributes\":{\"overlay\":{\"type\":\"object\",\"name\":\"BoxAnnotation\",\"id\":\"3ad07277-881f-41a1-8571-4b2fe27c3981\",\"attributes\":{\"syncable\":false,\"line_color\":\"black\",\"line_alpha\":1.0,\"line_width\":2,\"line_dash\":[4,4],\"fill_color\":\"lightgrey\",\"fill_alpha\":0.5,\"level\":\"overlay\",\"visible\":false,\"left\":{\"type\":\"number\",\"value\":\"nan\"},\"right\":{\"type\":\"number\",\"value\":\"nan\"},\"top\":{\"type\":\"number\",\"value\":\"nan\"},\"bottom\":{\"type\":\"number\",\"value\":\"nan\"},\"left_units\":\"canvas\",\"right_units\":\"canvas\",\"top_units\":\"canvas\",\"bottom_units\":\"canvas\",\"handles\":{\"type\":\"object\",\"name\":\"BoxInteractionHandles\",\"id\":\"3654a2f6-8288-4d9d-b04c-4191b88deb8c\",\"attributes\":{\"all\":{\"type\":\"object\",\"name\":\"AreaVisuals\",\"id\":\"224b3b01-ced1-4724-a699-57ee81649f19\",\"attributes\":{\"fill_color\":\"white\",\"hover_fill_color\":\"lightgray\"}}}}}}}},{\"type\":\"object\",\"name\":\"ResetTool\",\"id\":\"dc8de3a2-2ac7-4a49-8c9e-33def0c85949\"}],\"active_drag\":{\"id\":\"16d5b9c2-cf5b-4806-8420-9357cf3e9a0e\"},\"active_scroll\":{\"id\":\"f215ff55-de1d-4154-8f05-1b6d316db132\"}}},\"left\":[{\"type\":\"object\",\"name\":\"LinearAxis\",\"id\":\"d706dfc7-3958-4a4e-bd4a-25008baad4d8\",\"attributes\":{\"ticker\":{\"type\":\"object\",\"name\":\"BasicTicker\",\"id\":\"a920bac2-c2d6-420a-9273-f7172287124e\",\"attributes\":{\"mantissas\":[1,2,5]}},\"formatter\":{\"type\":\"object\",\"name\":\"BasicTickFormatter\",\"id\":\"174231f7-d803-4a7b-ad74-786c6e21b774\"},\"axis_label\":\"\",\"major_label_policy\":{\"type\":\"object\",\"name\":\"AllLabels\",\"id\":\"16605347-8c3d-49a6-9ac7-3163cda17f2e\"}}}],\"below\":[{\"type\":\"object\",\"name\":\"LinearAxis\",\"id\":\"cbea59a4-fabe-47eb-ab58-2d5e898325d9\",\"attributes\":{\"ticker\":{\"type\":\"object\",\"name\":\"BasicTicker\",\"id\":\"4cc18218-c3d5-40d3-a94e-9ee2082ab9a8\",\"attributes\":{\"mantissas\":[1,2,5]}},\"formatter\":{\"type\":\"object\",\"name\":\"BasicTickFormatter\",\"id\":\"b7f60e32-2a17-4918-b53b-ff7f98846519\"},\"axis_label\":\"SEASON\",\"major_label_policy\":{\"type\":\"object\",\"name\":\"AllLabels\",\"id\":\"4b8da422-5235-442b-9e8a-b74ecfd26f8d\"}}}],\"center\":[{\"type\":\"object\",\"name\":\"Grid\",\"id\":\"29604033-338a-45e0-ae36-325a688c654c\",\"attributes\":{\"axis\":{\"id\":\"cbea59a4-fabe-47eb-ab58-2d5e898325d9\"},\"grid_line_color\":null}},{\"type\":\"object\",\"name\":\"Grid\",\"id\":\"30bfe599-aba0-426d-9f34-5f8191cdbe6b\",\"attributes\":{\"dimension\":1,\"axis\":{\"id\":\"d706dfc7-3958-4a4e-bd4a-25008baad4d8\"},\"grid_line_color\":null}}],\"min_border_top\":10,\"min_border_bottom\":10,\"min_border_left\":10,\"min_border_right\":10,\"output_backend\":\"webgl\"}},{\"type\":\"object\",\"name\":\"Spacer\",\"id\":\"f68f2821-7b70-4faf-935e-752877dfc3b4\",\"attributes\":{\"name\":\"HSpacer04253\",\"stylesheets\":[\"\\n:host(.pn-loading):before, .pn-loading:before {\\n  background-color: #c3c3c3;\\n  mask-size: auto calc(min(50%, 400px));\\n  -webkit-mask-size: auto calc(min(50%, 400px));\\n}\",{\"id\":\"3b99ec33-eca4-4529-8a94-bcf05536fe24\"},{\"id\":\"afefbc25-7e3b-421c-b9d0-78022ed817a7\"},{\"id\":\"33ea4420-18fc-4bdd-a74f-d35c7698abe8\"}],\"margin\":0,\"sizing_mode\":\"stretch_width\",\"align\":\"start\"}}]}}],\"defs\":[{\"type\":\"model\",\"name\":\"ReactiveHTML1\"},{\"type\":\"model\",\"name\":\"FlexBox1\",\"properties\":[{\"name\":\"align_content\",\"kind\":\"Any\",\"default\":\"flex-start\"},{\"name\":\"align_items\",\"kind\":\"Any\",\"default\":\"flex-start\"},{\"name\":\"flex_direction\",\"kind\":\"Any\",\"default\":\"row\"},{\"name\":\"flex_wrap\",\"kind\":\"Any\",\"default\":\"wrap\"},{\"name\":\"gap\",\"kind\":\"Any\",\"default\":\"\"},{\"name\":\"justify_content\",\"kind\":\"Any\",\"default\":\"flex-start\"}]},{\"type\":\"model\",\"name\":\"FloatPanel1\",\"properties\":[{\"name\":\"config\",\"kind\":\"Any\",\"default\":{\"type\":\"map\"}},{\"name\":\"contained\",\"kind\":\"Any\",\"default\":true},{\"name\":\"position\",\"kind\":\"Any\",\"default\":\"right-top\"},{\"name\":\"offsetx\",\"kind\":\"Any\",\"default\":null},{\"name\":\"offsety\",\"kind\":\"Any\",\"default\":null},{\"name\":\"theme\",\"kind\":\"Any\",\"default\":\"primary\"},{\"name\":\"status\",\"kind\":\"Any\",\"default\":\"normalized\"}]},{\"type\":\"model\",\"name\":\"GridStack1\",\"properties\":[{\"name\":\"mode\",\"kind\":\"Any\",\"default\":\"warn\"},{\"name\":\"ncols\",\"kind\":\"Any\",\"default\":null},{\"name\":\"nrows\",\"kind\":\"Any\",\"default\":null},{\"name\":\"allow_resize\",\"kind\":\"Any\",\"default\":true},{\"name\":\"allow_drag\",\"kind\":\"Any\",\"default\":true},{\"name\":\"state\",\"kind\":\"Any\",\"default\":[]}]},{\"type\":\"model\",\"name\":\"drag1\",\"properties\":[{\"name\":\"slider_width\",\"kind\":\"Any\",\"default\":5},{\"name\":\"slider_color\",\"kind\":\"Any\",\"default\":\"black\"},{\"name\":\"value\",\"kind\":\"Any\",\"default\":50}]},{\"type\":\"model\",\"name\":\"click1\",\"properties\":[{\"name\":\"terminal_output\",\"kind\":\"Any\",\"default\":\"\"},{\"name\":\"debug_name\",\"kind\":\"Any\",\"default\":\"\"},{\"name\":\"clears\",\"kind\":\"Any\",\"default\":0}]},{\"type\":\"model\",\"name\":\"FastWrapper1\",\"properties\":[{\"name\":\"object\",\"kind\":\"Any\",\"default\":null},{\"name\":\"style\",\"kind\":\"Any\",\"default\":null}]},{\"type\":\"model\",\"name\":\"NotificationAreaBase1\",\"properties\":[{\"name\":\"js_events\",\"kind\":\"Any\",\"default\":{\"type\":\"map\"}},{\"name\":\"position\",\"kind\":\"Any\",\"default\":\"bottom-right\"},{\"name\":\"_clear\",\"kind\":\"Any\",\"default\":0}]},{\"type\":\"model\",\"name\":\"NotificationArea1\",\"properties\":[{\"name\":\"js_events\",\"kind\":\"Any\",\"default\":{\"type\":\"map\"}},{\"name\":\"notifications\",\"kind\":\"Any\",\"default\":[]},{\"name\":\"position\",\"kind\":\"Any\",\"default\":\"bottom-right\"},{\"name\":\"_clear\",\"kind\":\"Any\",\"default\":0},{\"name\":\"types\",\"kind\":\"Any\",\"default\":[{\"type\":\"map\",\"entries\":[[\"type\",\"warning\"],[\"background\",\"#ffc107\"],[\"icon\",{\"type\":\"map\",\"entries\":[[\"className\",\"fas fa-exclamation-triangle\"],[\"tagName\",\"i\"],[\"color\",\"white\"]]}]]},{\"type\":\"map\",\"entries\":[[\"type\",\"info\"],[\"background\",\"#007bff\"],[\"icon\",{\"type\":\"map\",\"entries\":[[\"className\",\"fas fa-info-circle\"],[\"tagName\",\"i\"],[\"color\",\"white\"]]}]]}]}]},{\"type\":\"model\",\"name\":\"Notification\",\"properties\":[{\"name\":\"background\",\"kind\":\"Any\",\"default\":null},{\"name\":\"duration\",\"kind\":\"Any\",\"default\":3000},{\"name\":\"icon\",\"kind\":\"Any\",\"default\":null},{\"name\":\"message\",\"kind\":\"Any\",\"default\":\"\"},{\"name\":\"notification_type\",\"kind\":\"Any\",\"default\":null},{\"name\":\"_rendered\",\"kind\":\"Any\",\"default\":false},{\"name\":\"_destroyed\",\"kind\":\"Any\",\"default\":false}]},{\"type\":\"model\",\"name\":\"TemplateActions1\",\"properties\":[{\"name\":\"open_modal\",\"kind\":\"Any\",\"default\":0},{\"name\":\"close_modal\",\"kind\":\"Any\",\"default\":0}]},{\"type\":\"model\",\"name\":\"BootstrapTemplateActions1\",\"properties\":[{\"name\":\"open_modal\",\"kind\":\"Any\",\"default\":0},{\"name\":\"close_modal\",\"kind\":\"Any\",\"default\":0}]},{\"type\":\"model\",\"name\":\"TemplateEditor1\",\"properties\":[{\"name\":\"layout\",\"kind\":\"Any\",\"default\":[]}]},{\"type\":\"model\",\"name\":\"MaterialTemplateActions1\",\"properties\":[{\"name\":\"open_modal\",\"kind\":\"Any\",\"default\":0},{\"name\":\"close_modal\",\"kind\":\"Any\",\"default\":0}]},{\"type\":\"model\",\"name\":\"ReactiveESM1\",\"properties\":[{\"name\":\"esm_constants\",\"kind\":\"Any\",\"default\":{\"type\":\"map\"}}]},{\"type\":\"model\",\"name\":\"JSComponent1\",\"properties\":[{\"name\":\"esm_constants\",\"kind\":\"Any\",\"default\":{\"type\":\"map\"}}]},{\"type\":\"model\",\"name\":\"ReactComponent1\",\"properties\":[{\"name\":\"esm_constants\",\"kind\":\"Any\",\"default\":{\"type\":\"map\"}}]},{\"type\":\"model\",\"name\":\"AnyWidgetComponent1\",\"properties\":[{\"name\":\"esm_constants\",\"kind\":\"Any\",\"default\":{\"type\":\"map\"}}]},{\"type\":\"model\",\"name\":\"request_value1\",\"properties\":[{\"name\":\"fill\",\"kind\":\"Any\",\"default\":\"none\"},{\"name\":\"_synced\",\"kind\":\"Any\",\"default\":null},{\"name\":\"_request_sync\",\"kind\":\"Any\",\"default\":0}]}]}};\n",
       "  var render_items = [{\"docid\":\"f39c527b-daf3-441a-b6f6-44582e8a97a6\",\"roots\":{\"84a35684-93c1-40dd-9a18-727eb9574838\":\"e58be492-7efc-4078-9004-3aac93874d3b\"},\"root_ids\":[\"84a35684-93c1-40dd-9a18-727eb9574838\"]}];\n",
       "  var docs = Object.values(docs_json)\n",
       "  if (!docs) {\n",
       "    return\n",
       "  }\n",
       "  const py_version = docs[0].version.replace('rc', '-rc.').replace('.dev', '-dev.')\n",
       "  async function embed_document(root) {\n",
       "    var Bokeh = get_bokeh(root)\n",
       "    await Bokeh.embed.embed_items_notebook(docs_json, render_items);\n",
       "    for (const render_item of render_items) {\n",
       "      for (const root_id of render_item.root_ids) {\n",
       "\tconst id_el = document.getElementById(root_id)\n",
       "\tif (id_el.children.length && id_el.children[0].hasAttribute('data-root-id')) {\n",
       "\t  const root_el = id_el.children[0]\n",
       "\t  root_el.id = root_el.id + '-rendered'\n",
       "\t  for (const child of root_el.children) {\n",
       "            // Ensure JupyterLab does not capture keyboard shortcuts\n",
       "            // see: https://jupyterlab.readthedocs.io/en/4.1.x/extension/notebook.html#keyboard-interaction-model\n",
       "\t    child.setAttribute('data-lm-suppress-shortcuts', 'true')\n",
       "\t  }\n",
       "\t}\n",
       "      }\n",
       "    }\n",
       "  }\n",
       "  function get_bokeh(root) {\n",
       "    if (root.Bokeh === undefined) {\n",
       "      return null\n",
       "    } else if (root.Bokeh.version !== py_version) {\n",
       "      if (root.Bokeh.versions === undefined || !root.Bokeh.versions.has(py_version)) {\n",
       "\treturn null\n",
       "      }\n",
       "      return root.Bokeh.versions.get(py_version);\n",
       "    } else if (root.Bokeh.version === py_version) {\n",
       "      return root.Bokeh\n",
       "    }\n",
       "    return null\n",
       "  }\n",
       "  function is_loaded(root) {\n",
       "    var Bokeh = get_bokeh(root)\n",
       "    return (Bokeh != null && Bokeh.Panel !== undefined)\n",
       "  }\n",
       "  if (is_loaded(root)) {\n",
       "    embed_document(root);\n",
       "  } else {\n",
       "    var attempts = 0;\n",
       "    var timer = setInterval(function(root) {\n",
       "      if (is_loaded(root)) {\n",
       "        clearInterval(timer);\n",
       "        embed_document(root);\n",
       "      } else if (document.readyState == \"complete\") {\n",
       "        attempts++;\n",
       "        if (attempts > 200) {\n",
       "          clearInterval(timer);\n",
       "\t  var Bokeh = get_bokeh(root)\n",
       "\t  if (Bokeh == null || Bokeh.Panel == null) {\n",
       "            console.warn(\"Panel: ERROR: Unable to run Panel code because Bokeh or Panel library is missing\");\n",
       "\t  } else {\n",
       "\t    console.warn(\"Panel: WARNING: Attempting to render but not all required libraries could be resolved.\")\n",
       "\t    embed_document(root)\n",
       "\t  }\n",
       "        }\n",
       "      }\n",
       "    }, 25, root)\n",
       "  }\n",
       "})(window);</script>"
      ],
      "text/plain": [
       ":Curve   [SEASON]   (GP)"
      ]
     },
     "execution_count": 85,
     "metadata": {
      "application/vnd.holoviews_exec.v0+json": {
       "id": "84a35684-93c1-40dd-9a18-727eb9574838"
      }
     },
     "output_type": "execute_result"
    }
   ],
   "source": [
    "(top_10_avg.groupby('SEASON')['GP'].mean() / season_max_gp).hvplot.line()"
   ]
  }
 ],
 "metadata": {
  "kernelspec": {
   "display_name": ".venv",
   "language": "python",
   "name": "python3"
  },
  "language_info": {
   "codemirror_mode": {
    "name": "ipython",
    "version": 3
   },
   "file_extension": ".py",
   "mimetype": "text/x-python",
   "name": "python",
   "nbconvert_exporter": "python",
   "pygments_lexer": "ipython3",
   "version": "3.12.1"
  }
 },
 "nbformat": 4,
 "nbformat_minor": 2
}
